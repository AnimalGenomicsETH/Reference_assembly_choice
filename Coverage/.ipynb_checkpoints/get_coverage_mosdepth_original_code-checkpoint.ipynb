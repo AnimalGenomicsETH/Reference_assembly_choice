{
 "cells": [
  {
   "cell_type": "markdown",
   "metadata": {},
   "source": [
    "## Get coverage with Mosdepth - Original code\n",
    "\n",
    "This notebook contains the original scripts shared by Hubert Pausch in order to calculate the coverage of the samples. The goals of these scripts are:\n",
    "\n",
    "* Generating a coverage file per sample (by using get_coverage.sh) so the coverage of each position within the BAM file is retrieved\n",
    "* Creating a summary of the coverage where the rows are the samples and the columns the coverage for autosomes and sexual chromosomes.\n",
    "\n",
    "#### Step 1: get coverage by using mosdepth\n",
    "\n",
    "This is the script shared by Hubert to calculate the coverage using mosdepth ([paper](https://www.ncbi.nlm.nih.gov/pubmed/29096012) - [Github](https://github.com/brentp/mosdepth))."
   ]
  },
  {
   "cell_type": "code",
   "execution_count": null,
   "metadata": {},
   "outputs": [],
   "source": [
    "cd $TMPDIR ##Here moving to the root. In my case /cluster/home/avillas\n",
    "\n",
    "export LD_LIBRARY_PATH=/cluster/work/pausch/group_bin/htslib/ ##Setting the htslib library path (C library for high-throughput sequencing data formats)\n",
    "\n",
    "file=${path}${bam_id}.bam #path and bam_id will be given as part of the job submission, see cells below.\n",
    "outfile=${bam_id}.coverage #setting the name of the file generated\n",
    "\n",
    "for chr in {1..32}\n",
    "do\n",
    "if [[ $chr = \"30\" ]]; then\n",
    "    chr=X\n",
    "fi\n",
    "if [[ $chr = \"31\" ]]; then\n",
    "    chr=Y\n",
    "fi\n",
    "if [[ $chr = \"32\" ]]; then\n",
    "    chr=MT\n",
    "fi\n",
    "\n",
    "#The above loop is just setting the names of chromosomes 30, 31 and 32 as X, Y and MT \n",
    "\n",
    "/cluster/work/pausch/group_bin/mosdepth -c $chr output $file\n",
    "\n",
    "#Mosdepth software is run for all bam files.\n",
    "#-c parameter implies extraction of coverage per chromosome\n",
    "#output is the prefix needed for the generation of intermediate files (e.g. output.per-base.bed.gz)\n",
    "\n",
    "if [[ $chr != \"X\" ]]; then\n",
    "coverage_sum=`zcat output.per-base.bed.gz | awk '{ total += ($3-$2)*$4; count++ } END {print total}'`;length=`zcat output.per-base.bed.gz | tail -n 1 | awk '{print $3}'`; coverage=`printf %.2f $(echo $coverage_sum/$length | bc -l)`; echo $file $chr $length $coverage >> ${outfile}\n",
    "fi\n",
    "\n",
    "#Code run for all chromosomes except for X. Splitting the different functions:\n",
    "#Decompress output.per-base.bed.gz, see structure of the file below.\n",
    "#Coverage_sum is the total of coverage for all the positions. This is, sum of multiplying the coverage by the number of positions for such coverage\n",
    "#total += and count++ are used for increasing the number for the whole file.\n",
    "#length is the number of end position for the last entry\n",
    "#coverage is the division between the coverage_sum and the length, with 2 decimals\n",
    "#finally 4 columns are addded to the output file: file, chromosome, length and coverage\n",
    "\n",
    "if [[ $chr = \"X\" ]]; then\n",
    "coverage_sum=`zcat output.per-base.bed.gz | awk '$2<133300518' | awk '{ total += ($3-$2)*$4; count++ } END {print total}'`;length=133300518; coverage=`printf %.2f $(echo $coverage_sum/$length | bc -l)`; echo $file $chr 133300518 $coverage >> ${outfile}\n",
    "coverage_sum=`zcat output.per-base.bed.gz | awk '$2>133300518' | awk '{ total += ($3-$2)*$4; count++ } END {print total}'`;length=5708626; coverage=`printf %.2f $(echo $coverage_sum/$length | bc -l)`; echo $file PAR 5708626 $coverage >> ${outfile}\n",
    "fi\n",
    "\n",
    "#Code run for X chromosomes. Depending on starting position:\n",
    "#For positions under 133300518 the same operations are done as above. Coverage is calculated and chromosome X will always be 133300518 of length.\n",
    "#For positions over 133300518 the same operations are done as above. Coverage is calculated and associated to PAR chromosome; length will be always 5708626.\n",
    "\n",
    "rm output*\n",
    "done\n",
    "\n",
    "#Files with prefix output - temporary - are removed\n",
    "\n",
    "cp ${outfile} ${output_folder}\n",
    "rm ${outfile}\n",
    "\n",
    "#Resulting file is moved to the final folder and deleted from the working place."
   ]
  },
  {
   "cell_type": "markdown",
   "metadata": {},
   "source": [
    "Temporary file output.per-base.bed.gz has been kept for the sake of curiosity (the script removes temporary files) and looks like this:"
   ]
  },
  {
   "cell_type": "code",
   "execution_count": 4,
   "metadata": {
    "scrolled": true
   },
   "outputs": [
    {
     "name": "stdout",
     "output_type": "stream",
     "text": [
      "2\t0\t87\t0\n",
      "2\t87\t177\t1\n",
      "2\t177\t190\t2\n",
      "2\t190\t203\t3\n",
      "2\t203\t204\t4\n",
      "2\t204\t209\t5\n",
      "2\t209\t215\t6\n",
      "2\t215\t234\t7\n",
      "2\t234\t238\t8\n",
      "2\t238\t272\t9\n",
      "\n",
      "gzip: stdout: Broken pipe\n",
      "11\t106980240\t106980444\t1\n",
      "11\t106980444\t106980536\t0\n",
      "11\t106980536\t106980605\t1\n",
      "11\t106980605\t106980643\t2\n",
      "11\t106980643\t106980680\t1\n",
      "11\t106980680\t106980681\t0\n",
      "11\t106980681\t106980710\t1\n",
      "11\t106980710\t106980715\t0\n",
      "11\t106980715\t106980836\t1\n",
      "11\t106980836\t106982474\t0\n"
     ]
    }
   ],
   "source": [
    "zcat /cluster/work/pausch/temp_scratch/audald/analysis_test/coverage/{2}_output.per-base.bed.gz | head -10\n",
    "zcat /cluster/work/pausch/temp_scratch/audald/analysis_test/coverage/{11}_output.per-base.bed.gz | tail -10"
   ]
  },
  {
   "cell_type": "markdown",
   "metadata": {},
   "source": [
    "An output.per-base.bed.gz is generated for each chromosome. The first column represents the chromosome number (notice that we have modified some names in the main script), the second column is the starting position, the third column is the end position and the fourth column is the coverage. This is, the bases between starting position and end position are covered according to column four in chromosome from column 1.\n",
    "\n",
    "Here is the command used for submitting the jobs to the queue (1 job for each sample):"
   ]
  },
  {
   "cell_type": "code",
   "execution_count": null,
   "metadata": {},
   "outputs": [],
   "source": [
    "for bam in `ls /cluster/work/pausch/inputs/bam/BTA_UCD12/*.bam | xargs -n 1 basename | awk -F\".bam\" '{print $1}'`\n",
    "do\n",
    "bsub -n 1 -W 6:00 -R \"rusage[mem=6000,scratch=2500]\" -J \"mosdepth\" -env \"all, path=/cluster/work/pausch/inputs/bam/BTA_UCD12/, output_folder=/this/is/my/output/directory/,bam_id=${bam}\" < /cluster/work/pausch/to_share/get_coverage.sh\n",
    "echo $bam\n",
    "fi\n",
    "done"
   ]
  },
  {
   "cell_type": "markdown",
   "metadata": {},
   "source": [
    "#### Step 2: get average coverage for all samples\n",
    "\n",
    "Once the coverage for all samples is retrieved, the average coverage can be summarised for all samples using this second script:"
   ]
  },
  {
   "cell_type": "code",
   "execution_count": null,
   "metadata": {},
   "outputs": [],
   "source": [
    "echo \"bam_id ITB_id autosome x y PAR MT\" > $HOME/summary_coverage.txt #Summary_coverage text file is created with the header\n",
    "coverage_folder=/this/is/my/output/directory/ #Where the coverage files can be found\n",
    "for bam in `ls /cluster/work/pausch/inputs/bam/BTA_UCD12/*.bam | xargs -n 1 basename | awk -F\".bam\" '{print $1}'` #Extracting the sample IDs for the loop\n",
    "do\n",
    "itb_id=`cat /cluster/work/pausch/inputs/ref/BTA/individual_information.csv | awk -v bam=$bam '$1==bam' | awk '{print $3}'`\n",
    "#In order to retrieve the interbull_id. Sample ID is identified in the first column. Once identified, third column is printed\n",
    "autosome=`awk '{ total += $4; count++ } END { print total/count }' <(head -n 29 ${coverage_folder}/${bam}.coverage)`\n",
    "#summing up the coverage for all autosomic chromosomes and printing the division by the number of chromosomes. \n",
    "x=`tail -n 4 ${coverage_folder}/${bam}.coverage  | head -n 1 | awk '{print $4}'`\n",
    "#Printing the fourth column of the X chromosome (top one when printing the four last chromosomes)\n",
    "par=`tail -n 3 ${coverage_folder}/${bam}.coverage  | head -n 1 | awk '{print $4}'`\n",
    "#Printing the fourth column of the PAR chromosome (top one when printing the three last chromosomes)\n",
    "y=`tail -n 2 ${coverage_folder}/${bam}.coverage  | head -n 1 | awk '{print $4}'`\n",
    "#Printing the fourth column of the Y chromosome (top one when printing the two last chromosomes)\n",
    "mt=`tail -n 1 ${coverage_folder}/${bam}.coverage | awk '{print $4}'`\n",
    "#Printing the fourth column of the MT chromosome (last chromosome)\n",
    "echo $bam $itb_id $autosome $x $y $par $mt >> $HOME/summary_coverage.txt\n",
    "#printing all the values in the summary_coverage file\n",
    "done"
   ]
  },
  {
   "cell_type": "markdown",
   "metadata": {},
   "source": [
    "Although this code is perfectly fine for the BAM files aligned to UCD, the MIT chromosome cannot be retrieved from the BAMs aligned to Angus assembly, as there is no MT-sequence in the Angus reference. Therefore, the following modified script is provided for Angus-BAM files:"
   ]
  },
  {
   "cell_type": "code",
   "execution_count": null,
   "metadata": {},
   "outputs": [],
   "source": [
    "echo \"bam_id ITB_id autosome x y PAR\" > $HOME/summary_coverage.txt\n",
    "coverage_folder=/this/is/my/output/directory/\n",
    "for bam in `ls /cluster/work/pausch/inputs/bam/BTA_UCD12/*.bam | xargs -n 1 basename | awk -F\".bam\" '{print $1}'`\n",
    "do\n",
    "itb_id=`cat /cluster/work/pausch/inputs/ref/BTA/individual_information.csv | awk -v bam=$bam '$1==bam' | awk '{print $3}'`\n",
    "autosome=`awk '{ total += $4; count++ } END { print total/count }' <(head -n 29 ${coverage_folder}/${bam}.coverage)`\n",
    "x=`tail -n 3 ${coverage_folder}/${bam}.coverage  | head -n 1 | awk '{print $4}'`\n",
    "par=`tail -n 2 ${coverage_folder}/${bam}.coverage  | head -n 1 | awk '{print $4}'`\n",
    "y=`tail -n 1 ${coverage_folder}/${bam}.coverage  | head -n 1 | awk '{print $4}'`\n",
    "echo $bam $itb_id $autosome $x $y $par  >> $HOME/summary_coverage.txt\n",
    "done"
   ]
  }
 ],
 "metadata": {
  "kernelspec": {
   "display_name": "Bash",
   "language": "bash",
   "name": "bash"
  },
  "language_info": {
   "codemirror_mode": "shell",
   "file_extension": ".sh",
   "mimetype": "text/x-sh",
   "name": "bash"
  }
 },
 "nbformat": 4,
 "nbformat_minor": 2
}
