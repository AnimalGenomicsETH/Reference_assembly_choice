{
 "cells": [
  {
   "cell_type": "markdown",
   "metadata": {},
   "source": [
    "This notebook aims at defining:\n",
    "\n",
    "- How original script has been adapted for Snakamke\n",
    "- What is the structure of the output file\n",
    "- Which checks are necessary to deem the output as correct\n",
    "\n",
    "#### Script adapted to Snakemake\n",
    "\n",
    "The script which retrieves the coverage per each sample (get_coverage.sh) is adapted for Snakemake and can be found here:"
   ]
  },
  {
   "cell_type": "code",
   "execution_count": 1,
   "metadata": {},
   "outputs": [
    {
     "name": "stdout",
     "output_type": "stream",
     "text": [
      "-rwxrwx--- 1 avillas hest-hpc-tg 1007 Feb 13 15:37 /cluster/work/pausch/temp_scratch/audald/variant_analyses/coverage/get_coverage.sh\n"
     ]
    }
   ],
   "source": [
    "ls -lrth /cluster/work/pausch/temp_scratch/audald/variant_analyses/coverage/get_coverage.sh"
   ]
  },
  {
   "cell_type": "markdown",
   "metadata": {},
   "source": [
    "And looks like this:"
   ]
  },
  {
   "cell_type": "code",
   "execution_count": null,
   "metadata": {},
   "outputs": [],
   "source": [
    "cd $TMPDIR\n",
    "\n",
    "export LD_LIBRARY_PATH=/cluster/work/pausch/group_bin/htslib/\n",
    "\n",
    "for chr in {1..32}\n",
    "do\n",
    "if [[ $chr = \"30\" ]]; then\n",
    "    chr=X\n",
    "fi\n",
    "if [[ $chr = \"31\" ]]; then\n",
    "    chr=Y\n",
    "fi\n",
    "if [[ $chr = \"32\" ]]; then\n",
    "    chr=MT\n",
    "fi\n",
    "\n",
    "/cluster/work/pausch/group_bin/mosdepth -c $chr $3 $1\n",
    "\n",
    "if [[ $chr != \"X\" ]]; then\n",
    "coverage_sum=`zcat $4 | awk '{ total += ($3-$2)*$4; count++ } END {print total}'`;length=`zcat $4 | tail -n 1 | awk '{print $3}'`; coverage=`printf %.2f $(echo $coverage_sum/$length | bc -l)`; echo $1 $chr $length $coverage >> $2\n",
    "fi\n",
    "\n",
    "if [[ $chr = \"X\" ]]; then\n",
    "coverage_sum=`zcat $4 | awk '$2<133300518' | awk '{ total += ($3-$2)*$4; count++ } END {print total}'`;length=133300518; coverage=`printf %.2f $(echo $coverage_sum/$length | bc -l)`; echo $1 $chr 133300518 $coverage >> $2\n",
    "coverage_sum=`zcat $4 | awk '$2>133300518' | awk '{ total += ($3-$2)*$4; count++ } END {print total}'`;length=5708626; coverage=`printf %.2f $(echo $coverage_sum/$length | bc -l)`; echo $1 PAR 5708626 $coverage >> $2\n",
    "fi\n",
    "done\n",
    "\n",
    "rm $3*"
   ]
  },
  {
   "cell_type": "markdown",
   "metadata": {},
   "source": [
    "This script should be run over 486 files (243 selected BAMs - see [ID obtention notebook](../Data/IDs/OBV_BSW_raw_IDs_python.ipynb) x 2 assemblies - UCD & Angus). Additionally, atomic log files and optimised cluster resources are designed. In order to achieve the programmatic submission of the jobs with all conditions, the following Snakemake files are created:\n",
    "\n",
    "* [Snakefile](Snakemake/Snakefile.py) \n",
    "* [Config file](Snakemake/config.yaml)\n",
    "* [Cluster file](Snakemake/cluster.json)\n",
    "\n",
    "#### Structure of the output file\n",
    "\n",
    "As described above, a coverage file is generated per sample and assembly. To fully understand what *mosdepth* does, we can take a peek at the resulting data structure:"
   ]
  },
  {
   "cell_type": "code",
   "execution_count": 1,
   "metadata": {},
   "outputs": [
    {
     "name": "stdout",
     "output_type": "stream",
     "text": [
      "Content of the coverage file for sample RM724 (for both assemblies) look like this:\n",
      "\n",
      "==> /cluster/work/pausch/temp_scratch/audald/variant_analyses/coverage/Angus/RM724.coverage <==\n",
      "/cluster/work/pausch/temp_scratch/audald/best_assembly/dedup_alignment/Angus/RM724/RM724.bam 1 157005132 9.65\n",
      "/cluster/work/pausch/temp_scratch/audald/best_assembly/dedup_alignment/Angus/RM724/RM724.bam 2 134168182 9.61\n",
      "/cluster/work/pausch/temp_scratch/audald/best_assembly/dedup_alignment/Angus/RM724/RM724.bam 3 121042431 9.49\n",
      "/cluster/work/pausch/temp_scratch/audald/best_assembly/dedup_alignment/Angus/RM724/RM724.bam 4 119712010 9.58\n",
      "/cluster/work/pausch/temp_scratch/audald/best_assembly/dedup_alignment/Angus/RM724/RM724.bam 5 119436673 9.44\n",
      "/cluster/work/pausch/temp_scratch/audald/best_assembly/dedup_alignment/Angus/RM724/RM724.bam 6 117143213 9.75\n",
      "/cluster/work/pausch/temp_scratch/audald/best_assembly/dedup_alignment/Angus/RM724/RM724.bam 7 110277844 9.33\n",
      "/cluster/work/pausch/temp_scratch/audald/best_assembly/dedup_alignment/Angus/RM724/RM724.bam 8 112656795 9.52\n",
      "/cluster/work/pausch/temp_scratch/audald/best_assembly/dedup_alignment/Angus/RM724/RM724.bam 9 108212080 9.60\n",
      "/cluster/work/pausch/temp_scratch/audald/best_assembly/dedup_alignment/Angus/RM724/RM724.bam 10 102763607 9.42\n",
      "/cluster/work/pausch/temp_scratch/audald/best_assembly/dedup_alignment/Angus/RM724/RM724.bam 11 106503169 9.24\n",
      "/cluster/work/pausch/temp_scratch/audald/best_assembly/dedup_alignment/Angus/RM724/RM724.bam 12 91134637 9.50\n",
      "/cluster/work/pausch/temp_scratch/audald/best_assembly/dedup_alignment/Angus/RM724/RM724.bam 13 83353196 9.15\n",
      "/cluster/work/pausch/temp_scratch/audald/best_assembly/dedup_alignment/Angus/RM724/RM724.bam 14 82504076 9.75\n",
      "/cluster/work/pausch/temp_scratch/audald/best_assembly/dedup_alignment/Angus/RM724/RM724.bam 15 84012196 9.39\n",
      "/cluster/work/pausch/temp_scratch/audald/best_assembly/dedup_alignment/Angus/RM724/RM724.bam 16 80314375 9.28\n",
      "/cluster/work/pausch/temp_scratch/audald/best_assembly/dedup_alignment/Angus/RM724/RM724.bam 17 72578450 9.21\n",
      "/cluster/work/pausch/temp_scratch/audald/best_assembly/dedup_alignment/Angus/RM724/RM724.bam 18 64297242 8.82\n",
      "/cluster/work/pausch/temp_scratch/audald/best_assembly/dedup_alignment/Angus/RM724/RM724.bam 19 63281984 8.67\n",
      "/cluster/work/pausch/temp_scratch/audald/best_assembly/dedup_alignment/Angus/RM724/RM724.bam 20 71023550 9.64\n",
      "/cluster/work/pausch/temp_scratch/audald/best_assembly/dedup_alignment/Angus/RM724/RM724.bam 21 69534311 9.17\n",
      "/cluster/work/pausch/temp_scratch/audald/best_assembly/dedup_alignment/Angus/RM724/RM724.bam 22 60873768 9.25\n",
      "/cluster/work/pausch/temp_scratch/audald/best_assembly/dedup_alignment/Angus/RM724/RM724.bam 23 51373253 9.11\n",
      "/cluster/work/pausch/temp_scratch/audald/best_assembly/dedup_alignment/Angus/RM724/RM724.bam 24 60526499 9.40\n",
      "/cluster/work/pausch/temp_scratch/audald/best_assembly/dedup_alignment/Angus/RM724/RM724.bam 25 42121255 8.59\n",
      "/cluster/work/pausch/temp_scratch/audald/best_assembly/dedup_alignment/Angus/RM724/RM724.bam 26 50770935 9.23\n",
      "/cluster/work/pausch/temp_scratch/audald/best_assembly/dedup_alignment/Angus/RM724/RM724.bam 27 44121239 9.31\n",
      "/cluster/work/pausch/temp_scratch/audald/best_assembly/dedup_alignment/Angus/RM724/RM724.bam 28 36277417 9.39\n",
      "/cluster/work/pausch/temp_scratch/audald/best_assembly/dedup_alignment/Angus/RM724/RM724.bam 29 51138358 8.99\n",
      "/cluster/work/pausch/temp_scratch/audald/best_assembly/dedup_alignment/Angus/RM724/RM724.bam X 133300518 9.09\n",
      "/cluster/work/pausch/temp_scratch/audald/best_assembly/dedup_alignment/Angus/RM724/RM724.bam PAR 5708626 4.24\n",
      "/cluster/work/pausch/temp_scratch/audald/best_assembly/dedup_alignment/Angus/RM724/RM724.bam Y 15658480 2.22\n",
      "/cluster/work/pausch/temp_scratch/audald/best_assembly/dedup_alignment/Angus/RM724/RM724.bam MT 15658480 2.22\n",
      "\n",
      "==> /cluster/work/pausch/temp_scratch/audald/variant_analyses/coverage/UCD/RM724.coverage <==\n",
      "/cluster/work/pausch/temp_scratch/audald/best_assembly/dedup_alignment/UCD/RM724/RM724.bam 1 158534110 9.64\n",
      "/cluster/work/pausch/temp_scratch/audald/best_assembly/dedup_alignment/UCD/RM724/RM724.bam 2 136231102 9.61\n",
      "/cluster/work/pausch/temp_scratch/audald/best_assembly/dedup_alignment/UCD/RM724/RM724.bam 3 121005158 9.48\n",
      "/cluster/work/pausch/temp_scratch/audald/best_assembly/dedup_alignment/UCD/RM724/RM724.bam 4 120000601 9.55\n",
      "/cluster/work/pausch/temp_scratch/audald/best_assembly/dedup_alignment/UCD/RM724/RM724.bam 5 120089316 9.43\n",
      "/cluster/work/pausch/temp_scratch/audald/best_assembly/dedup_alignment/UCD/RM724/RM724.bam 6 117806340 9.67\n",
      "/cluster/work/pausch/temp_scratch/audald/best_assembly/dedup_alignment/UCD/RM724/RM724.bam 7 110682743 9.33\n",
      "/cluster/work/pausch/temp_scratch/audald/best_assembly/dedup_alignment/UCD/RM724/RM724.bam 8 113319770 9.51\n",
      "/cluster/work/pausch/temp_scratch/audald/best_assembly/dedup_alignment/UCD/RM724/RM724.bam 9 105454467 9.57\n",
      "/cluster/work/pausch/temp_scratch/audald/best_assembly/dedup_alignment/UCD/RM724/RM724.bam 10 103308737 9.36\n",
      "/cluster/work/pausch/temp_scratch/audald/best_assembly/dedup_alignment/UCD/RM724/RM724.bam 11 106982474 9.24\n",
      "/cluster/work/pausch/temp_scratch/audald/best_assembly/dedup_alignment/UCD/RM724/RM724.bam 12 87216183 9.38\n",
      "/cluster/work/pausch/temp_scratch/audald/best_assembly/dedup_alignment/UCD/RM724/RM724.bam 13 83472345 9.24\n",
      "/cluster/work/pausch/temp_scratch/audald/best_assembly/dedup_alignment/UCD/RM724/RM724.bam 14 82403003 9.52\n",
      "/cluster/work/pausch/temp_scratch/audald/best_assembly/dedup_alignment/UCD/RM724/RM724.bam 15 85007780 9.42\n",
      "/cluster/work/pausch/temp_scratch/audald/best_assembly/dedup_alignment/UCD/RM724/RM724.bam 16 81013979 9.26\n",
      "/cluster/work/pausch/temp_scratch/audald/best_assembly/dedup_alignment/UCD/RM724/RM724.bam 17 73167244 9.19\n",
      "/cluster/work/pausch/temp_scratch/audald/best_assembly/dedup_alignment/UCD/RM724/RM724.bam 18 65820629 8.94\n",
      "/cluster/work/pausch/temp_scratch/audald/best_assembly/dedup_alignment/UCD/RM724/RM724.bam 19 63449741 8.69\n",
      "/cluster/work/pausch/temp_scratch/audald/best_assembly/dedup_alignment/UCD/RM724/RM724.bam 20 71974595 9.58\n",
      "/cluster/work/pausch/temp_scratch/audald/best_assembly/dedup_alignment/UCD/RM724/RM724.bam 21 69862954 9.34\n",
      "/cluster/work/pausch/temp_scratch/audald/best_assembly/dedup_alignment/UCD/RM724/RM724.bam 22 60773035 9.18\n",
      "/cluster/work/pausch/temp_scratch/audald/best_assembly/dedup_alignment/UCD/RM724/RM724.bam 23 52498615 9.31\n",
      "/cluster/work/pausch/temp_scratch/audald/best_assembly/dedup_alignment/UCD/RM724/RM724.bam 24 62317253 9.38\n",
      "/cluster/work/pausch/temp_scratch/audald/best_assembly/dedup_alignment/UCD/RM724/RM724.bam 25 42350435 8.67\n",
      "/cluster/work/pausch/temp_scratch/audald/best_assembly/dedup_alignment/UCD/RM724/RM724.bam 26 51992305 9.14\n",
      "/cluster/work/pausch/temp_scratch/audald/best_assembly/dedup_alignment/UCD/RM724/RM724.bam 27 45612108 9.39\n",
      "/cluster/work/pausch/temp_scratch/audald/best_assembly/dedup_alignment/UCD/RM724/RM724.bam 28 45940150 9.43\n",
      "/cluster/work/pausch/temp_scratch/audald/best_assembly/dedup_alignment/UCD/RM724/RM724.bam 29 51098607 9.04\n",
      "/cluster/work/pausch/temp_scratch/audald/best_assembly/dedup_alignment/UCD/RM724/RM724.bam X 133300518 9.65\n",
      "/cluster/work/pausch/temp_scratch/audald/best_assembly/dedup_alignment/UCD/RM724/RM724.bam PAR 5708626 8.02\n",
      "/cluster/work/pausch/temp_scratch/audald/best_assembly/dedup_alignment/UCD/RM724/RM724.bam Y 43300181 0.03\n",
      "/cluster/work/pausch/temp_scratch/audald/best_assembly/dedup_alignment/UCD/RM724/RM724.bam MT 16340 335.98\n"
     ]
    }
   ],
   "source": [
    "echo 'Content of the coverage file for sample RM724 (for both assemblies) look like this:'\n",
    "echo\n",
    "head -33 /cluster/work/pausch/temp_scratch/audald/variant_analyses/coverage/*/RM724.coverage"
   ]
  },
  {
   "cell_type": "markdown",
   "metadata": {},
   "source": [
    "The structure of the file is quite simple. It is formed of:\n",
    "\n",
    "- Column 1, name of the BAM file analysed\n",
    "- Column 2, ID of the chromosome\n",
    "- Column 3, length of the chromosome\n",
    "- Column 4, average of the chromosome\n",
    "\n",
    "#### Checking that all steps were successfully completed\n",
    "\n",
    "The Snakemake pipeline has been designed for generating atomic log files; this is, a log file is created for sample (243) and assembly (2). Hence, 486 jobs are generated and 486 successful log files are expected. The best way to track successful jobs is by grepping \"Successfully completed.\" across the log files. The following loop moves all correct logs to a new folder and counts them."
   ]
  },
  {
   "cell_type": "code",
   "execution_count": 6,
   "metadata": {},
   "outputs": [
    {
     "name": "stdout",
     "output_type": "stream",
     "text": [
      "Expected samples = 243 UCD + 243 Angus = 486\n",
      "Samples processed successfully:\n",
      "486\n",
      "Should the previous numbers be different, samples processed with errors can be found in: /cluster/work/pausch/temp_scratch/audald/variant_analyses/coverage/log_folder\n",
      "\n"
     ]
    }
   ],
   "source": [
    "root_folder=\"/cluster/work/pausch/temp_scratch/audald/variant_analyses/coverage/log_folder\"\n",
    "mydir=success_logs\n",
    "cd $root_folder\n",
    "mkdir $mydir\n",
    "for file in $root_folder/mosdepth*\n",
    "do\n",
    "    if grep -q 'Successfully completed.' $file\n",
    "    then\n",
    "        mv $file $mydir\n",
    "    else\n",
    "        echo $file contains errors\n",
    "    fi\n",
    "done\n",
    "echo 'Expected samples = 243 UCD + 243 Angus = 486'\n",
    "echo 'Samples processed successfully:'\n",
    "ls $mydir/*.log | wc -l\n",
    "echo 'Should the previous numbers be different, samples processed with errors can be found in:' $root_folder\n",
    "echo ''"
   ]
  },
  {
   "cell_type": "markdown",
   "metadata": {},
   "source": [
    "All jobs seem to be successfully completed. Nevertheless, when taking a closer look, the following warning is outputed in some of the logs: **chromosome MT not found**. Although this is not halting the process, it is interesting to further understand it. After some inspections, it is made evident that the warning is only present for these BAM files aligned to the Angus assembly. In order to check the following script is generated:"
   ]
  },
  {
   "cell_type": "code",
   "execution_count": 10,
   "metadata": {},
   "outputs": [
    {
     "name": "stdout",
     "output_type": "stream",
     "text": [
      "Angus samples reporting the warning:\n",
      "243\n",
      "UCD samples reporting the warning:\n",
      "0\n"
     ]
    }
   ],
   "source": [
    "root_folder=\"/cluster/work/pausch/temp_scratch/audald/variant_analyses/coverage/log_folder/success_logs\"\n",
    "cd $root_folder\n",
    "echo 'Angus samples reporting the warning:'\n",
    "grep 'chromosome MT not found' *log | grep 'Angus' | wc -l\n",
    "echo 'UCD samples reporting the warning:'\n",
    "grep 'chromosome MT not found' *log | grep 'UCD' | wc -l"
   ]
  },
  {
   "cell_type": "markdown",
   "metadata": {},
   "source": [
    "Therefore, we can conclude that *mosdepth* has run successfully and the coverage file obtained are reliable. However, the lack of MT chromosome for the Angus assembly it is important to note for the [second part of the pipeline](average_coverage.ipynb)."
   ]
  }
 ],
 "metadata": {
  "kernelspec": {
   "display_name": "Bash",
   "language": "bash",
   "name": "bash"
  },
  "language_info": {
   "codemirror_mode": "shell",
   "file_extension": ".sh",
   "mimetype": "text/x-sh",
   "name": "bash"
  }
 },
 "nbformat": 4,
 "nbformat_minor": 2
}
