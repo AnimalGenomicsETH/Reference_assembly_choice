{
 "cells": [
  {
   "cell_type": "markdown",
   "metadata": {},
   "source": [
    "This notebook aims at defining:\n",
    "\n",
    "- How original script has been adapted for Snakemake\n",
    "- What is the structure of the output file\n",
    "- Whether the output file correct despite the code change\n",
    "- Which checks are necessary to deem the output as correct\n",
    "\n",
    "#### Script adapted to Snakemake\n",
    "\n",
    "The first idea, given that the [original code](get_coverage_mosdepth_original_code.ipynb) is written in bash, is to slightly adapt the code for Snakemake. \n",
    "However, after some attempts, translating the script to Python (much more Snakemake-like) seems easier. The script which summarises the coverage per assembly (average_coverage.py) is adapted for Snakemake and can be found here:"
   ]
  },
  {
   "cell_type": "code",
   "execution_count": 2,
   "metadata": {},
   "outputs": [
    {
     "name": "stdout",
     "output_type": "stream",
     "text": [
      "-rwxrwx--- 1 avillas hest-hpc-tg 849 Feb 29 20:29 /cluster/work/pausch/temp_scratch/audald/variant_analyses/coverage/average_coverage.py\n"
     ]
    }
   ],
   "source": [
    "%%bash\n",
    "ls -lrth /cluster/work/pausch/temp_scratch/audald/variant_analyses/coverage/average_coverage.py"
   ]
  },
  {
   "cell_type": "markdown",
   "metadata": {},
   "source": [
    "And looks like this:"
   ]
  },
  {
   "cell_type": "code",
   "execution_count": null,
   "metadata": {},
   "outputs": [],
   "source": [
    "import fnmatch\n",
    "import pandas as pd\n",
    "\n",
    "sumcov_file = open(snakemake.output[0],\"w+\")\n",
    "sumcov_file.write(\"bam_id\\tITB_id\\tautosome\\tx\\ty\\tPAR\\tMT\\n\")\n",
    "info_file = pd.read_table(snakemake.input.info)\n",
    "info_file.index = info_file['bam_id']\n",
    "coverage_files=snakemake.input.file_list\n",
    "for file in coverage_files:\n",
    "    segments = file.split(\"/\")\n",
    "    seg_file = segments[9].split(\".\")\n",
    "    ITB_id = (info_file.loc[info_file['bam_id'] == seg_file[0], 'Interbull-ID'].iloc[0])\n",
    "    covy = pd.read_table(file, header=None , sep = ' ')\n",
    "    AUTOS = round(sum((covy.iloc[0:28,3])/28),2)\n",
    "    AUTOS = str(AUTOS)\n",
    "    X = covy.iloc[29,3]\n",
    "    X = str(X)\n",
    "    PAR = covy.iloc[30,3]\n",
    "    PAR = str(PAR)\n",
    "    Y = covy.iloc[31,3]\n",
    "    Y = str(Y)\n",
    "    MT = covy.iloc[32,3]\n",
    "    MT = str(MT)\n",
    "    sumcov_file.write(seg_file[0] + \".bam\\t\" + ITB_id + \"\\t\" + AUTOS + \"\\t\" + X + \"\\t\" + Y + \"\\t\" + PAR + \"\\t\" + MT + \"\\n\")\n",
    "sumcov_file.close()"
   ]
  },
  {
   "cell_type": "markdown",
   "metadata": {},
   "source": [
    "This python code is nothing but a literal translation of the bash code. Brief explanation of the bash code can be found in the [original script](get_coverage_mosdepth_original_code.ipynb).\n",
    "\n",
    "This script should be run over [486 files](get_coverage.ipynb). Again, log files and optimised cluster resources are designed. In order to achieve the programmatic submission of the jobs with all conditions, the following Snakemake files are created:\n",
    "\n",
    "* [Snakefile](Snakemake/Snakefile.py) \n",
    "* [Config file](Snakemake/config.yaml)\n",
    "* [Cluster file](Snakemake/cluster.json)\n",
    "\n",
    "#### Structure of the output file\n",
    "\n",
    "Two coverage files are created: each one summarising the coverage for all samples within each assembly. The coverage for autosomes and sexual chromosomes are differencied: "
   ]
  },
  {
   "cell_type": "code",
   "execution_count": 3,
   "metadata": {},
   "outputs": [
    {
     "name": "stdout",
     "output_type": "stream",
     "text": [
      "Content of the average coverage file for both assemblies look like this:\n",
      "\n",
      "==> /cluster/work/pausch/temp_scratch/audald/variant_analyses/coverage/Angus/summary_coverage.txt <==\n",
      "bam_id\tITB_id\tautosome\tx\ty\tPAR\tMT\n",
      "BSWCHEM120102541330.bam\tBSWCHEM120102541330\t7.86\t3.59\t16.97\t4.21\t16.97\n",
      "BSWCHEM110203063244.bam\tBSWCHEM110203063244\t9.61\t4.75\t19.52\t4.62\t19.52\n",
      "BSWCHEM120105187122.bam\tBSWCHEM120105187122\t10.79\t4.94\t22.5\t5.76\t22.5\n",
      "BSWCHEF120071978076.bam\tBSWCHEF120071978076\t11.8\t10.98\t5.59\t6.27\t5.59\n",
      "BSWCHEM120127953255.bam\tBSWCHEM120127953255\t7.59\t3.5\t16.0\t4.0\t16.0\n",
      "BSWCHEM120110162602.bam\tBSWCHEM120110162602\t7.86\t3.55\t16.06\t4.28\t16.06\n",
      "BSWCHEM120033040506.bam\tBSWCHEM120033040506\t10.05\t4.86\t20.9\t5.12\t20.9\n",
      "BSWCHEM120033987405.bam\tBSWCHEM120033987405\t10.23\t4.85\t22.01\t5.55\t22.01\n",
      "BSWCHEF120050280619.bam\tBSWCHEF120050280619\t15.27\t14.85\t4.29\t7.35\t4.29\n",
      "\n",
      "==> /cluster/work/pausch/temp_scratch/audald/variant_analyses/coverage/UCD/summary_coverage.txt <==\n",
      "bam_id\tITB_id\tautosome\tx\ty\tPAR\tMT\n",
      "BSWCHEM120102541330.bam\tBSWCHEM120102541330\t7.87\t3.81\t5.83\t7.91\t38.11\n",
      "BSWCHEM110203063244.bam\tBSWCHEM110203063244\t9.62\t5.09\t6.36\t8.92\t3.86\n",
      "BSWCHEM120105187122.bam\tBSWCHEM120105187122\t10.8\t5.25\t7.88\t10.47\t4.6\n",
      "BSWCHEF120071978076.bam\tBSWCHEF120071978076\t11.8\t11.67\t0.1\t11.67\t1738.15\n",
      "BSWCHEM120127953255.bam\tBSWCHEM120127953255\t7.61\t3.72\t5.51\t7.44\t12.6\n",
      "BSWCHEM120110162602.bam\tBSWCHEM120110162602\t7.88\t3.78\t5.57\t7.82\t8.9\n",
      "BSWCHEM120033040506.bam\tBSWCHEM120033040506\t10.06\t5.18\t7.07\t9.6\t25.46\n",
      "BSWCHEM120033987405.bam\tBSWCHEM120033987405\t10.24\t5.18\t7.65\t10.37\t3.96\n",
      "BSWCHEF120050280619.bam\tBSWCHEF120050280619\t15.26\t15.74\t0.07\t13.95\t659.82\n"
     ]
    }
   ],
   "source": [
    "%%bash\n",
    "\n",
    "echo 'Content of the average coverage file for both assemblies look like this:'\n",
    "echo\n",
    "head -10 /cluster/work/pausch/temp_scratch/audald/variant_analyses/coverage/*/summary_coverage.txt"
   ]
  },
  {
   "cell_type": "markdown",
   "metadata": {},
   "source": [
    "The structure of the file is quite simple. It is formed of:\n",
    "\n",
    "- Column 1, BAM ID\n",
    "- Column 2, ID of the interbull (in some cases different from the BAM ID)\n",
    "- Column 3, coverage of autosomes\n",
    "- Column 4, coverage of chromosome X\n",
    "- Column 5, coverage of chromosome Y\n",
    "- Column 6, coverage of chromosome PAR\n",
    "- Column 7, coverage of chromosome MT\n",
    "\n",
    "Although, we are only interested in the coverage of autosomic chromosomes, there are a couple of results that are clearly outstanding:\n",
    "\n",
    "- First of all, in the Angus assembly, the reported mitochondrial coverage is exactly the same as the coverage of the Y chromosome. This is directly related to what was documented on the [get_coverage script](get_coverage.ipynb) where this chromosome could not be found. This is due to the fact that Angus assembly does not include the mitochondrial chromosome. Therefore, a modification of the python script (removing the MT column) could be prepared as suggested from the [original code](get_coverage_mosdepth_original_code.ipynb).\n",
    "- While MT coverage seems a valid value for the UCD assembly, some of the values are outstandingly high (*e.g.* 1738.15 for BSWCHEF120071978076). This is something the group has already experienced in the past and would be interesting to further explore.\n",
    "\n",
    "#### Confirming that code changes do not affect the result\n",
    "\n",
    "As mentioned above, the original bash code has been modified to Python. I would like to check whether the result of running both scripts (bash and python) is exactly the same. Two different summary_coverage files are created for both codes. These are the coverages for some of the samples:"
   ]
  },
  {
   "cell_type": "code",
   "execution_count": 6,
   "metadata": {},
   "outputs": [
    {
     "name": "stdout",
     "output_type": "stream",
     "text": [
      "BSWCHEM120125290253 BSWCHEM120125290253 10.3803 5.19 7.62 10.36 4.18\n",
      "BSWCHEM120125290253.bam\tBSWCHEM120125290253\t10.37\t5.19\t7.62\t10.36\t4.18\n",
      "BSWCHEF120043744524 BSWCHEF120043744524 15.2224 15.64 0.07 13.50 706.10\n",
      "BSWCHEF120043744524.bam\tBSWCHEF120043744524\t15.23\t15.64\t0.07\t13.5\t706.1\n",
      "NDA032 BSWCHEF120030437958 14.1834 14.41 0.07 12.66 155.23\n",
      "NDA032.bam\tBSWCHEF120030437958\t14.19\t14.41\t0.07\t12.66\t155.23\n",
      "RM1908 BSWCHEM110064090335 20.7697 10.75 14.04 18.75 15.69\n",
      "RM1908.bam\tBSWCHEM110064090335\t20.78\t10.75\t14.04\t18.75\t15.69\n"
     ]
    }
   ],
   "source": [
    "%%bash\n",
    "cd /cluster/work/pausch/temp_scratch/audald/analysis_test/coverage/coverage_files\n",
    "samples=\"BSWCHEM120125290253 BSWCHEF120043744524 NDA032 RM1908\"\n",
    "for sample in $samples \n",
    "do\n",
    "    grep $sample bash_summary_coverage.txt\n",
    "    grep $sample python_summary_coverage.txt\n",
    "done"
   ]
  },
  {
   "cell_type": "markdown",
   "metadata": {},
   "source": [
    "#### Checking that all steps were successfully completed\n",
    "\n",
    "The Snakemake pipeline has been designed for generating atomic log files; this is, a log file is created for each summary / assembly (2). Hence, 2 successful log files are expected. The best way to track successful jobs is by greping \"Successfully completed.\" across the log files:"
   ]
  },
  {
   "cell_type": "code",
   "execution_count": 7,
   "metadata": {},
   "outputs": [
    {
     "name": "stdout",
     "output_type": "stream",
     "text": [
      "summary_cov_Angus.log:Successfully completed.\n",
      "summary_cov_UCD.log:Successfully completed.\n"
     ]
    }
   ],
   "source": [
    "%%bash\n",
    "\n",
    "cd /cluster/work/pausch/temp_scratch/audald/variant_analyses/coverage/log_folder\n",
    "grep Successfully summary_cov_*"
   ]
  },
  {
   "cell_type": "markdown",
   "metadata": {},
   "source": [
    "Therefore, we can conclude that:\n",
    "\n",
    "* Translation from bash to Python does not affect the results\n",
    "* The structure of the summary files is the expected except for a couple of commented aspects\n",
    "* The jobs were duly completed"
   ]
  }
 ],
 "metadata": {
  "kernelspec": {
   "display_name": "Python 3",
   "language": "python",
   "name": "python3"
  },
  "language_info": {
   "codemirror_mode": {
    "name": "ipython",
    "version": 3
   },
   "file_extension": ".py",
   "mimetype": "text/x-python",
   "name": "python",
   "nbconvert_exporter": "python",
   "pygments_lexer": "ipython3",
   "version": "3.6.4"
  }
 },
 "nbformat": 4,
 "nbformat_minor": 2
}
