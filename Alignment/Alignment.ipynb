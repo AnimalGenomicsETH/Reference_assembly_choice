{
 "cells": [
  {
   "cell_type": "markdown",
   "metadata": {},
   "source": [
    "## Alignment against different references\n",
    "\n",
    "#### Read group preparation\n",
    "\n",
    "The read group needs to be provided to the alignment step in a very specific format:\n",
    "\n",
    "rg=\"@RG\\tID:flowcell.lane\\tCN:center\\tLB:sample\\tPL:illumina\\tPU:read_group\\tSM:sample\"\n",
    "\n",
    "e.g.\n",
    "\n",
    "rg_BSWDEUM000916561366_C2FH5ACXX_5=\"@RG\\tID:C2FH5ACXX.5\\tCN:TUM\\tLB:BSWDEUM000916561366\\tPL:illumina\\tPU:C2FH5ACXX:5\\tSM:BSWDEUM000916561366\"\n",
    "\n",
    "The actual alignment of the raw data (fastq files already separated in read groups) consists of three steps:\n",
    "\n",
    "* [bwa alignment](http://bio-bwa.sourceforge.net). FASTQ file is aligned the reference genome and SAM file results from this\n",
    "* [samblaster](https://github.com/GregoryFaust/samblaster). Duplicated reads are marked in the sam file\n",
    "* [samtools](http://samtools.sourceforge.net). SAM file is converted to BAM files\n",
    "\n",
    "#### Reference genomes\n",
    "\n",
    "FASTQ files are necessary for the alignment step. Splitting them into read-groups and provide the read-groups in the right way is also necessary. Nonetheless, it would not be possible to align without the reference genome. I am taking UCD and Angus references for this specific pipeline. These references and other used by the group can be found at /cluster/work/pausch/inputs/ref/BTA.\n",
    "\n",
    "#### Alignment as a concatenation of the three steps\n",
    "\n",
    "When a specific read group is known (and prepared as shown above), the following commands are proven to be successful in the original exploration:"
   ]
  },
  {
   "cell_type": "code",
   "execution_count": null,
   "metadata": {},
   "outputs": [],
   "source": [
    "module load bwa/0.7.17\n",
    "module load samtools/1.6\n",
    "bsub -n 1 -W 8:00 -R \"rusage[mem=25000,scratch=1000]\" -J \"bam_creation\" -env \"all\" \"bwa mem -M -t 12 -R '@RG\\tID:C2FH5ACXX.5\\tCN:TUM\\tLB:BSWDEUM000916561366\\tPL:illumina\\tPU:C2FH5ACXX:5\\tSM:BSWDEUM000916561366' /cluster/work/pausch/inputs/ref/BTA/UCD1.2/ARS-UCD1.2_Btau5.0.1Y.fa /cluster/work/pausch/temp_scratch/audald/split_fastq/BSWDEUM000916561366/BSWDEUM000916561366_C2FH5ACXX_5_R1.fq.gz /cluster/work/pausch/temp_scratch/audald/split_fastq/BSWDEUM000916561366/BSWDEUM000916561366_C2FH5ACXX_5_R2.fq.gz | /cluster/work/pausch/audald/software/samblaster/samblaster -M | samtools view -Sb - > /cluster/work/pausch/temp_scratch/audald/alignment/BSWDEUM000916561366_C2FH5ACXX_5.bam\""
   ]
  },
  {
   "cell_type": "markdown",
   "metadata": {},
   "source": [
    "Following the example of sample **BSWAUTM000336344707**, all the BAM files for the 3 read groups (and the 2 alignments) are manually generated."
   ]
  },
  {
   "cell_type": "code",
   "execution_count": null,
   "metadata": {},
   "outputs": [],
   "source": [
    "module load bwa/0.7.17\n",
    "module load samtools/1.6\n",
    "bsub -n 1 -W 48:00 -R \"rusage[mem=25000,scratch=1000]\" -J \"bam_creation\" -env \"all\" \"bwa mem -M -t 12 -R '@RG\\tID:H5KCGDSXX.1\\tCN:TUM\\tLB:BSWAUTM000336344707\\tPL:illumina\\tPU:H5KCGDSXX:1\\tSM:BSWAUTM000336344707' /cluster/work/pausch/inputs/ref/BTA/UCD1.2/ARS-UCD1.2_Btau5.0.1Y.fa /cluster/work/pausch/temp_scratch/audald/split_fastq/BSWAUTM000336344707/BSWAUTM000336344707_H5KCGDSXX_1_R1.fq.gz /cluster/work/pausch/temp_scratch/audald/split_fastq/BSWAUTM000336344707/BSWAUTM000336344707_H5KCGDSXX_1_R2.fq.gz | /cluster/work/pausch/audald/software/samblaster/samblaster -M | samtools view -Sb - > /cluster/work/pausch/temp_scratch/audald/alignment/BSWAUTM000336344707/BSWAUTM000336344707_H5KCGDSXX_1_UCD.bam\"\n",
    "bsub -n 1 -W 48:00 -R \"rusage[mem=25000,scratch=1000]\" -J \"bam_creation\" -env \"all\" \"bwa mem -M -t 12 -R '@RG\\tID:H5KCGDSXX.1\\tCN:TUM\\tLB:BSWAUTM000336344707\\tPL:illumina\\tPU:H5KCGDSXX:1\\tSM:BSWAUTM000336344707' /cluster/work/pausch/inputs/ref/BTA/Angus/GCA_003369685.2_UOA_Angus_1_ARSUCD1.2X.fa /cluster/work/pausch/temp_scratch/audald/split_fastq/BSWAUTM000336344707/BSWAUTM000336344707_H5KCGDSXX_1_R1.fq.gz /cluster/work/pausch/temp_scratch/audald/split_fastq/BSWAUTM000336344707/BSWAUTM000336344707_H5KCGDSXX_1_R2.fq.gz | /cluster/work/pausch/audald/software/samblaster/samblaster -M | samtools view -Sb - > /cluster/work/pausch/temp_scratch/audald/alignment/BSWAUTM000336344707/BSWAUTM000336344707_H5KCGDSXX_1_Angus.bam\"\n",
    "bsub -n 1 -W 48:00 -R \"rusage[mem=25000,scratch=1000]\" -J \"bam_creation\" -env \"all\" \"bwa mem -M -t 12 -R '@RG\\tID:H5KCGDSXX.3\\tCN:TUM\\tLB:BSWAUTM000336344707\\tPL:illumina\\tPU:H5KCGDSXX:3\\tSM:BSWAUTM000336344707' /cluster/work/pausch/inputs/ref/BTA/UCD1.2/ARS-UCD1.2_Btau5.0.1Y.fa /cluster/work/pausch/temp_scratch/audald/split_fastq/BSWAUTM000336344707/BSWAUTM000336344707_H5KCGDSXX_3_R1.fq.gz /cluster/work/pausch/temp_scratch/audald/split_fastq/BSWAUTM000336344707/BSWAUTM000336344707_H5KCGDSXX_3_R2.fq.gz | /cluster/work/pausch/audald/software/samblaster/samblaster -M | samtools view -Sb - > /cluster/work/pausch/temp_scratch/audald/alignment/BSWAUTM000336344707/BSWAUTM000336344707_H5KCGDSXX_3_UCD.bam\"\n",
    "bsub -n 1 -W 48:00 -R \"rusage[mem=25000,scratch=1000]\" -J \"bam_creation\" -env \"all\" \"bwa mem -M -t 12 -R '@RG\\tID:H5KCGDSXX.3\\tCN:TUM\\tLB:BSWAUTM000336344707\\tPL:illumina\\tPU:H5KCGDSXX:3\\tSM:BSWAUTM000336344707' /cluster/work/pausch/inputs/ref/BTA/Angus/GCA_003369685.2_UOA_Angus_1_ARSUCD1.2X.fa /cluster/work/pausch/temp_scratch/audald/split_fastq/BSWAUTM000336344707/BSWAUTM000336344707_H5KCGDSXX_3_R1.fq.gz /cluster/work/pausch/temp_scratch/audald/split_fastq/BSWAUTM000336344707/BSWAUTM000336344707_H5KCGDSXX_3_R2.fq.gz | /cluster/work/pausch/audald/software/samblaster/samblaster -M | samtools view -Sb - > /cluster/work/pausch/temp_scratch/audald/alignment/BSWAUTM000336344707/BSWAUTM000336344707_H5KCGDSXX_3_Angus.bam\"\n",
    "bsub -n 1 -W 48:00 -R \"rusage[mem=25000,scratch=1000]\" -J \"bam_creation\" -env \"all\" \"bwa mem -M -t 12 -R '@RG\\tID:H5KCGDSXX.4\\tCN:TUM\\tLB:BSWAUTM000336344707\\tPL:illumina\\tPU:H5KCGDSXX:4\\tSM:BSWAUTM000336344707' /cluster/work/pausch/inputs/ref/BTA/UCD1.2/ARS-UCD1.2_Btau5.0.1Y.fa /cluster/work/pausch/temp_scratch/audald/split_fastq/BSWAUTM000336344707/BSWAUTM000336344707_H5KCGDSXX_4_R1.fq.gz /cluster/work/pausch/temp_scratch/audald/split_fastq/BSWAUTM000336344707/BSWAUTM000336344707_H5KCGDSXX_4_R2.fq.gz | /cluster/work/pausch/audald/software/samblaster/samblaster -M | samtools view -Sb - > /cluster/work/pausch/temp_scratch/audald/alignment/BSWAUTM000336344707/BSWAUTM000336344707_H5KCGDSXX_4_UCD.bam\"\n",
    "bsub -n 1 -W 48:00 -R \"rusage[mem=25000,scratch=1000]\" -J \"bam_creation\" -env \"all\" \"bwa mem -M -t 12 -R '@RG\\tID:H5KCGDSXX.4\\tCN:TUM\\tLB:BSWAUTM000336344707\\tPL:illumina\\tPU:H5KCGDSXX:4\\tSM:BSWAUTM000336344707' /cluster/work/pausch/inputs/ref/BTA/Angus/GCA_003369685.2_UOA_Angus_1_ARSUCD1.2X.fa /cluster/work/pausch/temp_scratch/audald/split_fastq/BSWAUTM000336344707/BSWAUTM000336344707_H5KCGDSXX_4_R1.fq.gz /cluster/work/pausch/temp_scratch/audald/split_fastq/BSWAUTM000336344707/BSWAUTM000336344707_H5KCGDSXX_4_R2.fq.gz | /cluster/work/pausch/audald/software/samblaster/samblaster -M | samtools view -Sb - > /cluster/work/pausch/temp_scratch/audald/alignment/BSWAUTM000336344707/BSWAUTM000336344707_H5KCGDSXX_4_Angus.bam\""
   ]
  },
  {
   "cell_type": "markdown",
   "metadata": {},
   "source": [
    "However, this is not feasible for all the files. I am analysing hundreds of files, which are split into 1-8 subfiles and need to be aligned to two different reference genomes. The number of results is huge. For the sake of example, the flowcells and lanes present in the FASTQ files are displayed here:"
   ]
  },
  {
   "cell_type": "code",
   "execution_count": 2,
   "metadata": {
    "scrolled": true
   },
   "outputs": [
    {
     "name": "stdout",
     "output_type": "stream",
     "text": [
      "These are all the flowcells:\n",
      "C192UACXX\n",
      "C1989ACXX\n",
      "C19JAACXX\n",
      "C19JJACXX\n",
      "C19RVACXX\n",
      "C1VFKACXX\n",
      "C1VR2ACXX\n",
      "C2EWAACXX\n",
      "C2FH5ACXX\n",
      "C5PBFACXX\n",
      "C62E0ANXX\n",
      "C87MVANXX\n",
      "CAJTNANXX\n",
      "CBCYNANXX\n",
      "CBD0JANXX\n",
      "CBL3FANXX\n",
      "D1C61ACXX\n",
      "D1C72ACXX\n",
      "D1DMRACXX\n",
      "D1DUKACXX\n",
      "D1H9RACXX\n",
      "D1NLFACXX\n",
      "D1YA9ACXX\n",
      "D20MTACXX\n",
      "H2VYKBBXX\n",
      "H2Y2TBCXY\n",
      "H3WNWDSXX\n",
      "H3WT2DSXX\n",
      "H3WYNBBXX\n",
      "H3YFWBBXX\n",
      "H3YGCBBXX\n",
      "H52LGDSXX\n",
      "H52NJBBXX\n",
      "H5GHKDRXX\n",
      "H5KCGDSXX\n",
      "H5NVJDSXX\n",
      "H5VHWDSXX\n",
      "H72JVDSXX\n",
      "H7G5HDSXX\n",
      "H7HFFDSXX\n",
      "HGKLWDSXX\n",
      "HHJHTBBXX\n",
      "HHJKCBBXX\n",
      "HHJMKBBXX\n",
      "HHLCCDSXX\n",
      "HHV75DSXX\n",
      "HJ5MVBBXX\n",
      "HJ5V5BBXX\n",
      "HJ7VHBBXX\n",
      "HLGTNBBXX\n",
      "HM5LGDSXX\n",
      "HTJLNBBXX\n",
      "HW3CKBBXX\n",
      "These are all the lanes:\n",
      "1\n",
      "2\n",
      "3\n",
      "4\n",
      "5\n",
      "6\n",
      "7\n",
      "8\n"
     ]
    }
   ],
   "source": [
    "cd /cluster/work/pausch/temp_scratch/audald\n",
    "ls -lrth split_fastq/* > names.txt\n",
    "awk -F \" \" '{print $9}' names.txt | grep 'fq' > fq_names.txt\n",
    "echo 'These are all the flowcells:'\n",
    "awk -F \"_\" '{print $2}' fq_names.txt | sort | uniq\n",
    "echo 'These are all the lanes:'\n",
    "awk -F \"_\" '{print $3}' fq_names.txt | sort | uniq"
   ]
  },
  {
   "cell_type": "markdown",
   "metadata": {},
   "source": [
    "#### Programmatic execution of alignment steps\n",
    "\n",
    "Snakemake is obviously the right approach not only for automatise the alignment but also to concatenate it to the previous (and following) steps. This workflow manager requires a concrete input and output in order to complete each rule. In this specific case, given the variety of read groups, the eventual read-group-specific bam files are not known *a priory*. \n",
    "\n",
    "The code for achieving this uncertaintment and connect all steps together can be seen in the [Snakefile](Snakemake/Snakefile.py) - checkpoints and defined functions are defined.\n",
    "\n",
    "In a nutshell, these are the parameters and this is how alignment is run within Snakemake ([Snakefile](Snakemake/Snakefile.py), [Configuration details](Snakemake/config.yaml) and [Cluster details](Snakemake/cluster.json)):"
   ]
  },
  {
   "cell_type": "code",
   "execution_count": null,
   "metadata": {},
   "outputs": [],
   "source": [
    "    params:\n",
    "        rg=\"@RG\\\\tID:{flowcell}.{lane}\\\\tCN:TUM\\\\tLB:{sample}\\\\tPL:illumina\\\\tPU:{flowcell}:{lane}\\\\tSM:{sample}\",\n",
    "        bwa_mem = \"-M -t 12 -R\"\n",
    "    shell:\n",
    "        \"module load bwa/0.7.17 \\n\" +\n",
    "        \"module load samtools/1.6 \\n\" +\n",
    "        \"bwa mem {params.bwa_mem} '{params.rg}' {input.ref} {input.R1} {input.R2} | /cluster/work/pausch/audald/software/samblaster/samblaster -M | samtools view -Sb - > {output.BAM}\""
   ]
  },
  {
   "cell_type": "markdown",
   "metadata": {},
   "source": [
    "It results into 2 read-group-specific BAM files per sample (one for each reference genome).\n",
    "\n",
    "P.S. Given the apparent complexity of generating a programming solution for the automatic creation and delivery of concrete and predicted read groups to the bwa software within Snakemake, I decided to post this question to [Stackoverflow](https://stackoverflow.com/questions/58747002/including-unforeseen-file-names-as-wildcards-in-snakemake). The final code is indeed using checkpoints and defined functions but differs slightly."
   ]
  }
 ],
 "metadata": {
  "kernelspec": {
   "display_name": "Bash",
   "language": "bash",
   "name": "bash"
  },
  "language_info": {
   "codemirror_mode": "shell",
   "file_extension": ".sh",
   "mimetype": "text/x-sh",
   "name": "bash"
  }
 },
 "nbformat": 4,
 "nbformat_minor": 2
}
