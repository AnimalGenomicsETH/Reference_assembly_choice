{
 "cells": [
  {
   "cell_type": "markdown",
   "metadata": {},
   "source": [
    "## Sorting, merging and generation of stats: all can be done with Sambamba\n",
    "\n",
    "[Sambamba](https://lomereiter.github.io/sambamba/docs/sambamba-view.html) is a very useful tool for managing and dealing with the recently created BAM files. 4 different steps are performed at this point by using this tool:\n",
    "\n",
    "* Sorting BAM files. The read-group-specific BAM files are not sorted; sorting is necessary for merging and further processing them. \n",
    "* Merge the sorted read-group-specific BAM files into sample-specific BAM files.\n",
    "* Generation of index files (BAI); this step is part of both sorting and merging steps.\n",
    "* Generation of stats so we can analyse and see the details of the BAM files at a glance.\n",
    "\n",
    "#### Sorting read-group-specific BAM files\n",
    "\n",
    "Recently generated BAM files are read-group-specific. The more read groups per BAM files the smaller the files will be with respect to the total sample. This a reason why the sorting is done at a read-group-specific BAM file: the  smaller files the better, as multiple jobs can run at the same time. However, the main reason why this step is done now is that sorted BAM files are necessary for the merging of read-group-specific BAM files into sample BAM files.\n",
    "\n",
    "A index file (BAI) for each BAM is also created as part of this process.\n",
    "\n",
    "Sambamba with sorting options can be used in bash as follows:"
   ]
  },
  {
   "cell_type": "code",
   "execution_count": null,
   "metadata": {},
   "outputs": [],
   "source": [
    "/cluster/work/pausch/group_bin/sambamba_v0.6.6 sort -t 6 --out {output.sorted_BAM} {input.BAM}"
   ]
  },
  {
   "cell_type": "markdown",
   "metadata": {},
   "source": [
    "#### Merging read-group-specific BAM files into sample-specific BAM files\n",
    "\n",
    "As mentioned within the documentation, splitting the FASTQ files into read-group-specific FASTQ files is a workaround to allow the alignment and sorting of the BAM files. However, we are interested in keeping all the read-groups together per each sample and eventually obtaining a BAM files for each sample. Therefore, we need now to merge all the read-group-specific BAM files in each sample into a single BAM files.\n",
    "\n",
    "This can be performed as shown here (this step also generates sample-specific BAI files):"
   ]
  },
  {
   "cell_type": "code",
   "execution_count": null,
   "metadata": {},
   "outputs": [],
   "source": [
    "/cluster/work/pausch/group_bin/sambamba_v0.6.6 merge -t 6 {output} {input}"
   ]
  },
  {
   "cell_type": "markdown",
   "metadata": {},
   "source": [
    "As can be seen in the command, input files need to be provided at the very end. This is due to the fact that the command will take all the files at the end and will merge them into the output. The important point is that at least 2 input files are required.\n",
    "\n",
    "Although the majority of the FASTQ files contained different read groups and were properly split, some of the FASTQ files were only composed by a read group. For these outstanding samples, only one BAM files is present at this point. \n",
    "\n",
    "This needs to be taken into account in Snakemake, so the merging action only takes places when the read group number is more than one. The if rule we designed is the following:"
   ]
  },
  {
   "cell_type": "code",
   "execution_count": null,
   "metadata": {},
   "outputs": [],
   "source": [
    "run:\n",
    "        if len(input) == 1:\n",
    "            shell(\"mv {input} {output} \\n\" + \"mv {input}.bai {output}.bai\")\n",
    "        else:\n",
    "            shell(SAMBAMBA + \" merge -t 6 {output} {input}\")"
   ]
  },
  {
   "cell_type": "markdown",
   "metadata": {},
   "source": [
    "#### Stats at a glance\n",
    "\n",
    "Once the sample-specific BAM and BAI files are obtained, we might want to take a look at the details. Sambamba is also a good tool for generating a report including this stats.\n",
    "\n",
    "This command can be run like:"
   ]
  },
  {
   "cell_type": "code",
   "execution_count": null,
   "metadata": {},
   "outputs": [],
   "source": [
    "/cluster/work/pausch/group_bin/sambamba_v0.6.6 flagstat -t 3 --nthreads 10 {input.BAM} > {output.Stats}"
   ]
  },
  {
   "cell_type": "markdown",
   "metadata": {},
   "source": [
    "And the resulting report looks like:"
   ]
  },
  {
   "cell_type": "code",
   "execution_count": 1,
   "metadata": {},
   "outputs": [
    {
     "name": "stdout",
     "output_type": "stream",
     "text": [
      "936027873 + 0 in total (QC-passed reads + QC-failed reads)\n",
      "4211599 + 0 secondary\n",
      "0 + 0 supplementary\n",
      "66950199 + 0 duplicates\n",
      "931920065 + 0 mapped (99.56%:N/A)\n",
      "931816274 + 0 paired in sequencing\n",
      "465908137 + 0 read1\n",
      "465908137 + 0 read2\n",
      "909222300 + 0 properly paired (97.58%:N/A)\n",
      "927239830 + 0 with itself and mate mapped\n",
      "468636 + 0 singletons (0.05%:N/A)\n",
      "16171804 + 0 with mate mapped to a different chr\n",
      "8047353 + 0 with mate mapped to a different chr (mapQ>=5)\n"
     ]
    }
   ],
   "source": [
    "cat /cluster/work/pausch/temp_scratch/audald/best_assembly/sorted_alignment/Angus/BSWCHEF120127770289/BSWCHEF120127770289.stats"
   ]
  },
  {
   "cell_type": "markdown",
   "metadata": {},
   "source": [
    "Two different stats reports are run for each sample within this workflow:\n",
    "- The first one straight after the merging, as documented in this notebook\n",
    "- The second one is the very last step and is run once [Picard tools](Picard_tools.ipynb) are applied\n",
    "\n",
    "#### Sambamba in Snakemake\n",
    "\n",
    "Overall, the parameters and the actual running within Snakemake can be seen in the following files: ([Snakefile](Snakemake/Snakefile.py), [Configuration details](Snakemake/config.yaml) and [Cluster details](Snakemake/cluster.json))."
   ]
  }
 ],
 "metadata": {
  "kernelspec": {
   "display_name": "Bash",
   "language": "bash",
   "name": "bash"
  },
  "language_info": {
   "codemirror_mode": "shell",
   "file_extension": ".sh",
   "mimetype": "text/x-sh",
   "name": "bash"
  }
 },
 "nbformat": 4,
 "nbformat_minor": 2
}
