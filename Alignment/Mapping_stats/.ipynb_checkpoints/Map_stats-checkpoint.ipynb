{
 "cells": [
  {
   "cell_type": "markdown",
   "metadata": {},
   "source": [
    "## Mapping stats\n",
    "\n",
    "This notebook is a guide to generate the resuluts on mapping quality used for the publication. The output of the `sam_flags` rule of the [Snakefile](../Pipeline/Snakefile) is used as `R` dataframe. The names of the samples (column `1`) are not printed for privacy reasons. A `Quality` column is added as follows:"
   ]
  },
  {
   "cell_type": "code",
   "execution_count": 2,
   "metadata": {},
   "outputs": [
    {
     "data": {
      "text/html": [
       "<table>\n",
       "<caption>A data.frame: 6 × 5</caption>\n",
       "<thead>\n",
       "\t<tr><th scope=col>Reference</th><th scope=col>Chromosome</th><th scope=col>All_reads</th><th scope=col>Filtered_reads</th><th scope=col>Quality</th></tr>\n",
       "\t<tr><th scope=col>&lt;fct&gt;</th><th scope=col>&lt;int&gt;</th><th scope=col>&lt;int&gt;</th><th scope=col>&lt;int&gt;</th><th scope=col>&lt;dbl&gt;</th></tr>\n",
       "</thead>\n",
       "<tbody>\n",
       "\t<tr><td>UCD  </td><td>28</td><td>11405474</td><td> 9717510</td><td>0.8520040</td></tr>\n",
       "\t<tr><td>Angus</td><td>29</td><td>10064451</td><td> 8152210</td><td>0.8100005</td></tr>\n",
       "\t<tr><td>Angus</td><td>21</td><td>12724687</td><td>12029051</td><td>0.9453318</td></tr>\n",
       "\t<tr><td>UCD  </td><td>29</td><td>15587380</td><td>13591290</td><td>0.8719419</td></tr>\n",
       "\t<tr><td>UCD  </td><td>16</td><td>18185516</td><td>15699027</td><td>0.8632709</td></tr>\n",
       "\t<tr><td>Angus</td><td>28</td><td> 7797907</td><td> 7033641</td><td>0.9019909</td></tr>\n",
       "</tbody>\n",
       "</table>\n"
      ],
      "text/latex": [
       "A data.frame: 6 × 5\n",
       "\\begin{tabular}{r|lllll}\n",
       " Reference & Chromosome & All\\_reads & Filtered\\_reads & Quality\\\\\n",
       " <fct> & <int> & <int> & <int> & <dbl>\\\\\n",
       "\\hline\n",
       "\t UCD   & 28 & 11405474 &  9717510 & 0.8520040\\\\\n",
       "\t Angus & 29 & 10064451 &  8152210 & 0.8100005\\\\\n",
       "\t Angus & 21 & 12724687 & 12029051 & 0.9453318\\\\\n",
       "\t UCD   & 29 & 15587380 & 13591290 & 0.8719419\\\\\n",
       "\t UCD   & 16 & 18185516 & 15699027 & 0.8632709\\\\\n",
       "\t Angus & 28 &  7797907 &  7033641 & 0.9019909\\\\\n",
       "\\end{tabular}\n"
      ],
      "text/markdown": [
       "\n",
       "A data.frame: 6 × 5\n",
       "\n",
       "| Reference &lt;fct&gt; | Chromosome &lt;int&gt; | All_reads &lt;int&gt; | Filtered_reads &lt;int&gt; | Quality &lt;dbl&gt; |\n",
       "|---|---|---|---|---|\n",
       "| UCD   | 28 | 11405474 |  9717510 | 0.8520040 |\n",
       "| Angus | 29 | 10064451 |  8152210 | 0.8100005 |\n",
       "| Angus | 21 | 12724687 | 12029051 | 0.9453318 |\n",
       "| UCD   | 29 | 15587380 | 13591290 | 0.8719419 |\n",
       "| UCD   | 16 | 18185516 | 15699027 | 0.8632709 |\n",
       "| Angus | 28 |  7797907 |  7033641 | 0.9019909 |\n",
       "\n"
      ],
      "text/plain": [
       "  Reference Chromosome All_reads Filtered_reads Quality  \n",
       "1 UCD       28         11405474   9717510       0.8520040\n",
       "2 Angus     29         10064451   8152210       0.8100005\n",
       "3 Angus     21         12724687  12029051       0.9453318\n",
       "4 UCD       29         15587380  13591290       0.8719419\n",
       "5 UCD       16         18185516  15699027       0.8632709\n",
       "6 Angus     28          7797907   7033641       0.9019909"
      ]
     },
     "metadata": {},
     "output_type": "display_data"
    },
    {
     "data": {
      "text/html": [
       "<table>\n",
       "<caption>A data.frame: 6 × 5</caption>\n",
       "<thead>\n",
       "\t<tr><th></th><th scope=col>Reference</th><th scope=col>Chromosome</th><th scope=col>All_reads</th><th scope=col>Filtered_reads</th><th scope=col>Quality</th></tr>\n",
       "\t<tr><th></th><th scope=col>&lt;fct&gt;</th><th scope=col>&lt;int&gt;</th><th scope=col>&lt;int&gt;</th><th scope=col>&lt;int&gt;</th><th scope=col>&lt;dbl&gt;</th></tr>\n",
       "</thead>\n",
       "<tbody>\n",
       "\t<tr><th scope=row>9333</th><td>UCD  </td><td> 5</td><td> 9535971</td><td> 7993537</td><td>0.8382510</td></tr>\n",
       "\t<tr><th scope=row>9334</th><td>UCD  </td><td>20</td><td> 5740962</td><td> 4802633</td><td>0.8365554</td></tr>\n",
       "\t<tr><th scope=row>9335</th><td>UCD  </td><td> 8</td><td> 9029371</td><td> 7553995</td><td>0.8366026</td></tr>\n",
       "\t<tr><th scope=row>9336</th><td>Angus</td><td>16</td><td> 6470006</td><td> 5418612</td><td>0.8374972</td></tr>\n",
       "\t<tr><th scope=row>9337</th><td>UCD  </td><td> 2</td><td>10837977</td><td> 9094054</td><td>0.8390915</td></tr>\n",
       "\t<tr><th scope=row>9338</th><td>Angus</td><td> 1</td><td>12291454</td><td>10308205</td><td>0.8386481</td></tr>\n",
       "</tbody>\n",
       "</table>\n"
      ],
      "text/latex": [
       "A data.frame: 6 × 5\n",
       "\\begin{tabular}{r|lllll}\n",
       "  & Reference & Chromosome & All\\_reads & Filtered\\_reads & Quality\\\\\n",
       "  & <fct> & <int> & <int> & <int> & <dbl>\\\\\n",
       "\\hline\n",
       "\t9333 & UCD   &  5 &  9535971 &  7993537 & 0.8382510\\\\\n",
       "\t9334 & UCD   & 20 &  5740962 &  4802633 & 0.8365554\\\\\n",
       "\t9335 & UCD   &  8 &  9029371 &  7553995 & 0.8366026\\\\\n",
       "\t9336 & Angus & 16 &  6470006 &  5418612 & 0.8374972\\\\\n",
       "\t9337 & UCD   &  2 & 10837977 &  9094054 & 0.8390915\\\\\n",
       "\t9338 & Angus &  1 & 12291454 & 10308205 & 0.8386481\\\\\n",
       "\\end{tabular}\n"
      ],
      "text/markdown": [
       "\n",
       "A data.frame: 6 × 5\n",
       "\n",
       "| <!--/--> | Reference &lt;fct&gt; | Chromosome &lt;int&gt; | All_reads &lt;int&gt; | Filtered_reads &lt;int&gt; | Quality &lt;dbl&gt; |\n",
       "|---|---|---|---|---|---|\n",
       "| 9333 | UCD   |  5 |  9535971 |  7993537 | 0.8382510 |\n",
       "| 9334 | UCD   | 20 |  5740962 |  4802633 | 0.8365554 |\n",
       "| 9335 | UCD   |  8 |  9029371 |  7553995 | 0.8366026 |\n",
       "| 9336 | Angus | 16 |  6470006 |  5418612 | 0.8374972 |\n",
       "| 9337 | UCD   |  2 | 10837977 |  9094054 | 0.8390915 |\n",
       "| 9338 | Angus |  1 | 12291454 | 10308205 | 0.8386481 |\n",
       "\n"
      ],
      "text/plain": [
       "     Reference Chromosome All_reads Filtered_reads Quality  \n",
       "9333 UCD        5          9535971   7993537       0.8382510\n",
       "9334 UCD       20          5740962   4802633       0.8365554\n",
       "9335 UCD        8          9029371   7553995       0.8366026\n",
       "9336 Angus     16          6470006   5418612       0.8374972\n",
       "9337 UCD        2         10837977   9094054       0.8390915\n",
       "9338 Angus      1         12291454  10308205       0.8386481"
      ]
     },
     "metadata": {},
     "output_type": "display_data"
    }
   ],
   "source": [
    "library(dplyr)\n",
    "library(tidyverse)\n",
    "setwd(\"/cluster/work/pausch/temp_scratch/audald/best_assembly/mapping_stats\")\n",
    "MQ_SAM_flag_reads = read.csv(file = \"MQ_sam_flag_reads.txt\", sep = \"\\t\", header = TRUE) # Using the output of the sam_flags rule in the Snakefile\n",
    "MQ_SAM_flag_reads$Quality = MQ_SAM_flag_reads$Filtered_reads / MQ_SAM_flag_reads$All_reads\n",
    "head(MQ_SAM_flag_reads[,-1]) #First column, with the name of the samples, is not printed\n",
    "tail(MQ_SAM_flag_reads[,-1]) #First column, with the name of the samples, is not printed"
   ]
  },
  {
   "cell_type": "markdown",
   "metadata": {},
   "source": [
    "* Chromosomes are aggregated per sample. Samples are sorted by the number of `All_reads`:"
   ]
  },
  {
   "cell_type": "code",
   "execution_count": 3,
   "metadata": {},
   "outputs": [
    {
     "data": {
      "text/html": [
       "322"
      ],
      "text/latex": [
       "322"
      ],
      "text/markdown": [
       "322"
      ],
      "text/plain": [
       "[1] 322"
      ]
     },
     "metadata": {},
     "output_type": "display_data"
    },
    {
     "data": {
      "text/html": [
       "<table>\n",
       "<caption>A data.frame: 6 × 4</caption>\n",
       "<thead>\n",
       "\t<tr><th></th><th scope=col>Reference</th><th scope=col>All_reads</th><th scope=col>Filtered_reads</th><th scope=col>Quality</th></tr>\n",
       "\t<tr><th></th><th scope=col>&lt;fct&gt;</th><th scope=col>&lt;dbl&gt;</th><th scope=col>&lt;dbl&gt;</th><th scope=col>&lt;dbl&gt;</th></tr>\n",
       "</thead>\n",
       "<tbody>\n",
       "\t<tr><th scope=row>232</th><td>UCD  </td><td>1144927880</td><td>1068933835</td><td>0.9332857</td></tr>\n",
       "\t<tr><th scope=row>71</th><td>Angus</td><td>1137593430</td><td>1059946752</td><td>0.9311840</td></tr>\n",
       "\t<tr><th scope=row>168</th><td>UCD  </td><td> 813074688</td><td> 733332300</td><td>0.9014605</td></tr>\n",
       "\t<tr><th scope=row>7</th><td>Angus</td><td> 806565799</td><td> 726333513</td><td>0.9000089</td></tr>\n",
       "\t<tr><th scope=row>190</th><td>UCD  </td><td> 724587908</td><td> 640490320</td><td>0.8835181</td></tr>\n",
       "\t<tr><th scope=row>29</th><td>Angus</td><td> 718670553</td><td> 634291070</td><td>0.8820160</td></tr>\n",
       "</tbody>\n",
       "</table>\n"
      ],
      "text/latex": [
       "A data.frame: 6 × 4\n",
       "\\begin{tabular}{r|llll}\n",
       "  & Reference & All\\_reads & Filtered\\_reads & Quality\\\\\n",
       "  & <fct> & <dbl> & <dbl> & <dbl>\\\\\n",
       "\\hline\n",
       "\t232 & UCD   & 1144927880 & 1068933835 & 0.9332857\\\\\n",
       "\t71 & Angus & 1137593430 & 1059946752 & 0.9311840\\\\\n",
       "\t168 & UCD   &  813074688 &  733332300 & 0.9014605\\\\\n",
       "\t7 & Angus &  806565799 &  726333513 & 0.9000089\\\\\n",
       "\t190 & UCD   &  724587908 &  640490320 & 0.8835181\\\\\n",
       "\t29 & Angus &  718670553 &  634291070 & 0.8820160\\\\\n",
       "\\end{tabular}\n"
      ],
      "text/markdown": [
       "\n",
       "A data.frame: 6 × 4\n",
       "\n",
       "| <!--/--> | Reference &lt;fct&gt; | All_reads &lt;dbl&gt; | Filtered_reads &lt;dbl&gt; | Quality &lt;dbl&gt; |\n",
       "|---|---|---|---|---|\n",
       "| 232 | UCD   | 1144927880 | 1068933835 | 0.9332857 |\n",
       "| 71 | Angus | 1137593430 | 1059946752 | 0.9311840 |\n",
       "| 168 | UCD   |  813074688 |  733332300 | 0.9014605 |\n",
       "| 7 | Angus |  806565799 |  726333513 | 0.9000089 |\n",
       "| 190 | UCD   |  724587908 |  640490320 | 0.8835181 |\n",
       "| 29 | Angus |  718670553 |  634291070 | 0.8820160 |\n",
       "\n"
      ],
      "text/plain": [
       "    Reference All_reads  Filtered_reads Quality  \n",
       "232 UCD       1144927880 1068933835     0.9332857\n",
       "71  Angus     1137593430 1059946752     0.9311840\n",
       "168 UCD        813074688  733332300     0.9014605\n",
       "7   Angus      806565799  726333513     0.9000089\n",
       "190 UCD        724587908  640490320     0.8835181\n",
       "29  Angus      718670553  634291070     0.8820160"
      ]
     },
     "metadata": {},
     "output_type": "display_data"
    },
    {
     "data": {
      "text/html": [
       "<table>\n",
       "<caption>A data.frame: 6 × 4</caption>\n",
       "<thead>\n",
       "\t<tr><th></th><th scope=col>Reference</th><th scope=col>All_reads</th><th scope=col>Filtered_reads</th><th scope=col>Quality</th></tr>\n",
       "\t<tr><th></th><th scope=col>&lt;fct&gt;</th><th scope=col>&lt;dbl&gt;</th><th scope=col>&lt;dbl&gt;</th><th scope=col>&lt;dbl&gt;</th></tr>\n",
       "</thead>\n",
       "<tbody>\n",
       "\t<tr><th scope=row>153</th><td>Angus</td><td>159903216</td><td>153190884</td><td>0.9581228</td></tr>\n",
       "\t<tr><th scope=row>314</th><td>UCD  </td><td>161177066</td><td>154664557</td><td>0.9593647</td></tr>\n",
       "\t<tr><th scope=row>149</th><td>Angus</td><td>165330400</td><td>154991566</td><td>0.9376307</td></tr>\n",
       "\t<tr><th scope=row>310</th><td>UCD  </td><td>166380393</td><td>156307640</td><td>0.9393427</td></tr>\n",
       "\t<tr><th scope=row>101</th><td>Angus</td><td>166729993</td><td>151643580</td><td>0.9090628</td></tr>\n",
       "\t<tr><th scope=row>262</th><td>UCD  </td><td>167901768</td><td>152975564</td><td>0.9105925</td></tr>\n",
       "</tbody>\n",
       "</table>\n"
      ],
      "text/latex": [
       "A data.frame: 6 × 4\n",
       "\\begin{tabular}{r|llll}\n",
       "  & Reference & All\\_reads & Filtered\\_reads & Quality\\\\\n",
       "  & <fct> & <dbl> & <dbl> & <dbl>\\\\\n",
       "\\hline\n",
       "\t153 & Angus & 159903216 & 153190884 & 0.9581228\\\\\n",
       "\t314 & UCD   & 161177066 & 154664557 & 0.9593647\\\\\n",
       "\t149 & Angus & 165330400 & 154991566 & 0.9376307\\\\\n",
       "\t310 & UCD   & 166380393 & 156307640 & 0.9393427\\\\\n",
       "\t101 & Angus & 166729993 & 151643580 & 0.9090628\\\\\n",
       "\t262 & UCD   & 167901768 & 152975564 & 0.9105925\\\\\n",
       "\\end{tabular}\n"
      ],
      "text/markdown": [
       "\n",
       "A data.frame: 6 × 4\n",
       "\n",
       "| <!--/--> | Reference &lt;fct&gt; | All_reads &lt;dbl&gt; | Filtered_reads &lt;dbl&gt; | Quality &lt;dbl&gt; |\n",
       "|---|---|---|---|---|\n",
       "| 153 | Angus | 159903216 | 153190884 | 0.9581228 |\n",
       "| 314 | UCD   | 161177066 | 154664557 | 0.9593647 |\n",
       "| 149 | Angus | 165330400 | 154991566 | 0.9376307 |\n",
       "| 310 | UCD   | 166380393 | 156307640 | 0.9393427 |\n",
       "| 101 | Angus | 166729993 | 151643580 | 0.9090628 |\n",
       "| 262 | UCD   | 167901768 | 152975564 | 0.9105925 |\n",
       "\n"
      ],
      "text/plain": [
       "    Reference All_reads Filtered_reads Quality  \n",
       "153 Angus     159903216 153190884      0.9581228\n",
       "314 UCD       161177066 154664557      0.9593647\n",
       "149 Angus     165330400 154991566      0.9376307\n",
       "310 UCD       166380393 156307640      0.9393427\n",
       "101 Angus     166729993 151643580      0.9090628\n",
       "262 UCD       167901768 152975564      0.9105925"
      ]
     },
     "metadata": {},
     "output_type": "display_data"
    }
   ],
   "source": [
    "agg_MQ_SAM_reads = aggregate(.~Sample+Reference, MQ_SAM_flag_reads, sum)\n",
    "#Aggregating all the columns (.) by sample and assembly\n",
    "agg_MQ_SAM_reads$Quality = agg_MQ_SAM_reads$Quality / 29\n",
    "#Mean quality is obtained by dividing by the number of chromosomes\n",
    "agg_MQ_SAM_reads = subset(agg_MQ_SAM_reads, select = -c(Chromosome) )\n",
    "#The number of chromosomes is obviously a sum of all of them and not trustable anyomore\n",
    "nrow(agg_MQ_SAM_reads)\n",
    "#Checking that the number of samples is the expected one (161 samples x 2 assemblies)\n",
    "head((agg_MQ_SAM_reads[order(-agg_MQ_SAM_reads$All_reads),])[,-1])\n",
    "head((agg_MQ_SAM_reads[order(agg_MQ_SAM_reads$All_reads),])[,-1])"
   ]
  },
  {
   "cell_type": "markdown",
   "metadata": {},
   "source": [
    " Summaries of mapping quality per samples and assembly:"
   ]
  },
  {
   "cell_type": "code",
   "execution_count": 4,
   "metadata": {},
   "outputs": [
    {
     "name": "stdout",
     "output_type": "stream",
     "text": [
      "[1] \"Summary of mapping quality for UCD assembly:\"\n"
     ]
    },
    {
     "data": {
      "text/plain": [
       "   Min. 1st Qu.  Median    Mean 3rd Qu.    Max. \n",
       " 0.7837  0.8478  0.8919  0.8928  0.9393  0.9722 "
      ]
     },
     "metadata": {},
     "output_type": "display_data"
    },
    {
     "name": "stdout",
     "output_type": "stream",
     "text": [
      "[1] \"Standard deviation of the mapping quality for UCD assembly:\"\n"
     ]
    },
    {
     "data": {
      "text/html": [
       "0.0506058647406612"
      ],
      "text/latex": [
       "0.0506058647406612"
      ],
      "text/markdown": [
       "0.0506058647406612"
      ],
      "text/plain": [
       "[1] 0.05060586"
      ]
     },
     "metadata": {},
     "output_type": "display_data"
    },
    {
     "name": "stdout",
     "output_type": "stream",
     "text": [
      "[1] \"Summary of mapping quality for Angus assembly:\"\n"
     ]
    },
    {
     "data": {
      "text/plain": [
       "   Min. 1st Qu.  Median    Mean 3rd Qu.    Max. \n",
       " 0.7831  0.8461  0.8905  0.8917  0.9376  0.9717 "
      ]
     },
     "metadata": {},
     "output_type": "display_data"
    },
    {
     "name": "stdout",
     "output_type": "stream",
     "text": [
      "[1] \"Standard deviation of the mapping quality for Angus assembly:\"\n"
     ]
    },
    {
     "data": {
      "text/html": [
       "0.0505814820205723"
      ],
      "text/latex": [
       "0.0505814820205723"
      ],
      "text/markdown": [
       "0.0505814820205723"
      ],
      "text/plain": [
       "[1] 0.05058148"
      ]
     },
     "metadata": {},
     "output_type": "display_data"
    }
   ],
   "source": [
    "print('Summary of mapping quality for UCD assembly:')\n",
    "summary(agg_MQ_SAM_reads[agg_MQ_SAM_reads$Reference == \"UCD\",]$Quality)\n",
    "print('Standard deviation of the mapping quality for UCD assembly:')\n",
    "sd(agg_MQ_SAM_reads[agg_MQ_SAM_reads$Reference == \"UCD\",]$Quality)\n",
    "print('Summary of mapping quality for Angus assembly:')\n",
    "summary(agg_MQ_SAM_reads[agg_MQ_SAM_reads$Reference == \"Angus\",]$Quality)\n",
    "print('Standard deviation of the mapping quality for Angus assembly:')\n",
    "sd((agg_MQ_SAM_reads[agg_MQ_SAM_reads$Reference == \"Angus\",]$Quality))"
   ]
  },
  {
   "cell_type": "markdown",
   "metadata": {},
   "source": [
    "* Chromosomes are aggregated per assembly. A column `Diff` is created with the percent points difference between corresponding chromosomes across assemblies. The dataframe is sorted by percent points difference:"
   ]
  },
  {
   "cell_type": "code",
   "execution_count": 5,
   "metadata": {},
   "outputs": [
    {
     "data": {
      "text/html": [
       "<table>\n",
       "<caption>A tibble: 29 × 4</caption>\n",
       "<thead>\n",
       "\t<tr><th scope=col>Chromosome</th><th scope=col>UCD</th><th scope=col>Angus</th><th scope=col>Diff</th></tr>\n",
       "\t<tr><th scope=col>&lt;int&gt;</th><th scope=col>&lt;dbl&gt;</th><th scope=col>&lt;dbl&gt;</th><th scope=col>&lt;dbl&gt;</th></tr>\n",
       "</thead>\n",
       "<tbody>\n",
       "\t<tr><td>20</td><td>0.8920437</td><td>0.8716600</td><td> 2.038368880</td></tr>\n",
       "\t<tr><td> 6</td><td>0.8930665</td><td>0.8797884</td><td> 1.327810628</td></tr>\n",
       "\t<tr><td>14</td><td>0.8951550</td><td>0.8846364</td><td> 1.051858124</td></tr>\n",
       "\t<tr><td>28</td><td>0.8952468</td><td>0.8852364</td><td> 1.001048451</td></tr>\n",
       "\t<tr><td>22</td><td>0.8993481</td><td>0.8950740</td><td> 0.427408657</td></tr>\n",
       "\t<tr><td>12</td><td>0.8933443</td><td>0.8891880</td><td> 0.415631320</td></tr>\n",
       "\t<tr><td>26</td><td>0.8927504</td><td>0.8890655</td><td> 0.368488161</td></tr>\n",
       "\t<tr><td>15</td><td>0.8943870</td><td>0.8914946</td><td> 0.289241123</td></tr>\n",
       "\t<tr><td>18</td><td>0.8937579</td><td>0.8916432</td><td> 0.211469747</td></tr>\n",
       "\t<tr><td> 3</td><td>0.8945121</td><td>0.8925317</td><td> 0.198033110</td></tr>\n",
       "\t<tr><td>17</td><td>0.8947385</td><td>0.8932807</td><td> 0.145778584</td></tr>\n",
       "\t<tr><td> 2</td><td>0.8946854</td><td>0.8935043</td><td> 0.118111417</td></tr>\n",
       "\t<tr><td> 4</td><td>0.8933579</td><td>0.8924573</td><td> 0.090063342</td></tr>\n",
       "\t<tr><td> 8</td><td>0.8930434</td><td>0.8922379</td><td> 0.080545679</td></tr>\n",
       "\t<tr><td>11</td><td>0.8972794</td><td>0.8966960</td><td> 0.058340369</td></tr>\n",
       "\t<tr><td> 5</td><td>0.8937861</td><td>0.8932115</td><td> 0.057463397</td></tr>\n",
       "\t<tr><td>10</td><td>0.8939825</td><td>0.8940688</td><td>-0.008626042</td></tr>\n",
       "\t<tr><td> 9</td><td>0.8941316</td><td>0.8948689</td><td>-0.073737697</td></tr>\n",
       "\t<tr><td> 1</td><td>0.8927577</td><td>0.8939467</td><td>-0.118904154</td></tr>\n",
       "\t<tr><td>24</td><td>0.8953973</td><td>0.8965867</td><td>-0.118934609</td></tr>\n",
       "\t<tr><td>29</td><td>0.8866159</td><td>0.8889238</td><td>-0.230787014</td></tr>\n",
       "\t<tr><td>25</td><td>0.8952214</td><td>0.8979050</td><td>-0.268363477</td></tr>\n",
       "\t<tr><td>16</td><td>0.8902587</td><td>0.8940015</td><td>-0.374277970</td></tr>\n",
       "\t<tr><td>27</td><td>0.8918891</td><td>0.8956442</td><td>-0.375511618</td></tr>\n",
       "\t<tr><td>19</td><td>0.8930664</td><td>0.8981173</td><td>-0.505091333</td></tr>\n",
       "\t<tr><td> 7</td><td>0.8884314</td><td>0.8951803</td><td>-0.674891373</td></tr>\n",
       "\t<tr><td>23</td><td>0.8834306</td><td>0.8902184</td><td>-0.678780600</td></tr>\n",
       "\t<tr><td>21</td><td>0.8857545</td><td>0.8931887</td><td>-0.743421751</td></tr>\n",
       "\t<tr><td>13</td><td>0.8884983</td><td>0.8961370</td><td>-0.763866579</td></tr>\n",
       "</tbody>\n",
       "</table>\n"
      ],
      "text/latex": [
       "A tibble: 29 × 4\n",
       "\\begin{tabular}{r|llll}\n",
       " Chromosome & UCD & Angus & Diff\\\\\n",
       " <int> & <dbl> & <dbl> & <dbl>\\\\\n",
       "\\hline\n",
       "\t 20 & 0.8920437 & 0.8716600 &  2.038368880\\\\\n",
       "\t  6 & 0.8930665 & 0.8797884 &  1.327810628\\\\\n",
       "\t 14 & 0.8951550 & 0.8846364 &  1.051858124\\\\\n",
       "\t 28 & 0.8952468 & 0.8852364 &  1.001048451\\\\\n",
       "\t 22 & 0.8993481 & 0.8950740 &  0.427408657\\\\\n",
       "\t 12 & 0.8933443 & 0.8891880 &  0.415631320\\\\\n",
       "\t 26 & 0.8927504 & 0.8890655 &  0.368488161\\\\\n",
       "\t 15 & 0.8943870 & 0.8914946 &  0.289241123\\\\\n",
       "\t 18 & 0.8937579 & 0.8916432 &  0.211469747\\\\\n",
       "\t  3 & 0.8945121 & 0.8925317 &  0.198033110\\\\\n",
       "\t 17 & 0.8947385 & 0.8932807 &  0.145778584\\\\\n",
       "\t  2 & 0.8946854 & 0.8935043 &  0.118111417\\\\\n",
       "\t  4 & 0.8933579 & 0.8924573 &  0.090063342\\\\\n",
       "\t  8 & 0.8930434 & 0.8922379 &  0.080545679\\\\\n",
       "\t 11 & 0.8972794 & 0.8966960 &  0.058340369\\\\\n",
       "\t  5 & 0.8937861 & 0.8932115 &  0.057463397\\\\\n",
       "\t 10 & 0.8939825 & 0.8940688 & -0.008626042\\\\\n",
       "\t  9 & 0.8941316 & 0.8948689 & -0.073737697\\\\\n",
       "\t  1 & 0.8927577 & 0.8939467 & -0.118904154\\\\\n",
       "\t 24 & 0.8953973 & 0.8965867 & -0.118934609\\\\\n",
       "\t 29 & 0.8866159 & 0.8889238 & -0.230787014\\\\\n",
       "\t 25 & 0.8952214 & 0.8979050 & -0.268363477\\\\\n",
       "\t 16 & 0.8902587 & 0.8940015 & -0.374277970\\\\\n",
       "\t 27 & 0.8918891 & 0.8956442 & -0.375511618\\\\\n",
       "\t 19 & 0.8930664 & 0.8981173 & -0.505091333\\\\\n",
       "\t  7 & 0.8884314 & 0.8951803 & -0.674891373\\\\\n",
       "\t 23 & 0.8834306 & 0.8902184 & -0.678780600\\\\\n",
       "\t 21 & 0.8857545 & 0.8931887 & -0.743421751\\\\\n",
       "\t 13 & 0.8884983 & 0.8961370 & -0.763866579\\\\\n",
       "\\end{tabular}\n"
      ],
      "text/markdown": [
       "\n",
       "A tibble: 29 × 4\n",
       "\n",
       "| Chromosome &lt;int&gt; | UCD &lt;dbl&gt; | Angus &lt;dbl&gt; | Diff &lt;dbl&gt; |\n",
       "|---|---|---|---|\n",
       "| 20 | 0.8920437 | 0.8716600 |  2.038368880 |\n",
       "|  6 | 0.8930665 | 0.8797884 |  1.327810628 |\n",
       "| 14 | 0.8951550 | 0.8846364 |  1.051858124 |\n",
       "| 28 | 0.8952468 | 0.8852364 |  1.001048451 |\n",
       "| 22 | 0.8993481 | 0.8950740 |  0.427408657 |\n",
       "| 12 | 0.8933443 | 0.8891880 |  0.415631320 |\n",
       "| 26 | 0.8927504 | 0.8890655 |  0.368488161 |\n",
       "| 15 | 0.8943870 | 0.8914946 |  0.289241123 |\n",
       "| 18 | 0.8937579 | 0.8916432 |  0.211469747 |\n",
       "|  3 | 0.8945121 | 0.8925317 |  0.198033110 |\n",
       "| 17 | 0.8947385 | 0.8932807 |  0.145778584 |\n",
       "|  2 | 0.8946854 | 0.8935043 |  0.118111417 |\n",
       "|  4 | 0.8933579 | 0.8924573 |  0.090063342 |\n",
       "|  8 | 0.8930434 | 0.8922379 |  0.080545679 |\n",
       "| 11 | 0.8972794 | 0.8966960 |  0.058340369 |\n",
       "|  5 | 0.8937861 | 0.8932115 |  0.057463397 |\n",
       "| 10 | 0.8939825 | 0.8940688 | -0.008626042 |\n",
       "|  9 | 0.8941316 | 0.8948689 | -0.073737697 |\n",
       "|  1 | 0.8927577 | 0.8939467 | -0.118904154 |\n",
       "| 24 | 0.8953973 | 0.8965867 | -0.118934609 |\n",
       "| 29 | 0.8866159 | 0.8889238 | -0.230787014 |\n",
       "| 25 | 0.8952214 | 0.8979050 | -0.268363477 |\n",
       "| 16 | 0.8902587 | 0.8940015 | -0.374277970 |\n",
       "| 27 | 0.8918891 | 0.8956442 | -0.375511618 |\n",
       "| 19 | 0.8930664 | 0.8981173 | -0.505091333 |\n",
       "|  7 | 0.8884314 | 0.8951803 | -0.674891373 |\n",
       "| 23 | 0.8834306 | 0.8902184 | -0.678780600 |\n",
       "| 21 | 0.8857545 | 0.8931887 | -0.743421751 |\n",
       "| 13 | 0.8884983 | 0.8961370 | -0.763866579 |\n",
       "\n"
      ],
      "text/plain": [
       "   Chromosome UCD       Angus     Diff        \n",
       "1  20         0.8920437 0.8716600  2.038368880\n",
       "2   6         0.8930665 0.8797884  1.327810628\n",
       "3  14         0.8951550 0.8846364  1.051858124\n",
       "4  28         0.8952468 0.8852364  1.001048451\n",
       "5  22         0.8993481 0.8950740  0.427408657\n",
       "6  12         0.8933443 0.8891880  0.415631320\n",
       "7  26         0.8927504 0.8890655  0.368488161\n",
       "8  15         0.8943870 0.8914946  0.289241123\n",
       "9  18         0.8937579 0.8916432  0.211469747\n",
       "10  3         0.8945121 0.8925317  0.198033110\n",
       "11 17         0.8947385 0.8932807  0.145778584\n",
       "12  2         0.8946854 0.8935043  0.118111417\n",
       "13  4         0.8933579 0.8924573  0.090063342\n",
       "14  8         0.8930434 0.8922379  0.080545679\n",
       "15 11         0.8972794 0.8966960  0.058340369\n",
       "16  5         0.8937861 0.8932115  0.057463397\n",
       "17 10         0.8939825 0.8940688 -0.008626042\n",
       "18  9         0.8941316 0.8948689 -0.073737697\n",
       "19  1         0.8927577 0.8939467 -0.118904154\n",
       "20 24         0.8953973 0.8965867 -0.118934609\n",
       "21 29         0.8866159 0.8889238 -0.230787014\n",
       "22 25         0.8952214 0.8979050 -0.268363477\n",
       "23 16         0.8902587 0.8940015 -0.374277970\n",
       "24 27         0.8918891 0.8956442 -0.375511618\n",
       "25 19         0.8930664 0.8981173 -0.505091333\n",
       "26  7         0.8884314 0.8951803 -0.674891373\n",
       "27 23         0.8834306 0.8902184 -0.678780600\n",
       "28 21         0.8857545 0.8931887 -0.743421751\n",
       "29 13         0.8884983 0.8961370 -0.763866579"
      ]
     },
     "metadata": {},
     "output_type": "display_data"
    },
    {
     "name": "stdout",
     "output_type": "stream",
     "text": [
      "[1] \"Mean of mapping quality differences between assemblies:\"\n"
     ]
    },
    {
     "data": {
      "text/html": [
       "0.101533336955614"
      ],
      "text/latex": [
       "0.101533336955614"
      ],
      "text/markdown": [
       "0.101533336955614"
      ],
      "text/plain": [
       "[1] 0.1015333"
      ]
     },
     "metadata": {},
     "output_type": "display_data"
    },
    {
     "name": "stdout",
     "output_type": "stream",
     "text": [
      "[1] \"Standard deviation of mapping quality differences between assemblies:\"\n"
     ]
    },
    {
     "data": {
      "text/html": [
       "0.632188991922704"
      ],
      "text/latex": [
       "0.632188991922704"
      ],
      "text/markdown": [
       "0.632188991922704"
      ],
      "text/plain": [
       "[1] 0.632189"
      ]
     },
     "metadata": {},
     "output_type": "display_data"
    }
   ],
   "source": [
    "MQ_chr_mapping = MQ_SAM_flag_reads %>% group_by(Reference, Chromosome) %>% summarise(Quality = mean(Quality))\n",
    "#The original data frame is grouped by assembly and chromosome and the mean quality is summarised\n",
    "\n",
    "MQ_tidy_chr_mapping = MQ_chr_mapping %>% pivot_wider(names_from = Reference, values_from = Quality) %>% select(Chromosome, UCD, Angus)\n",
    "#The distribution of the data frame is arranged and the names of the columns set\n",
    "\n",
    "MQ_tidy_chr_mapping$Diff = (MQ_tidy_chr_mapping$UCD - MQ_tidy_chr_mapping$Angus) * 100\n",
    "#A new column, with the percentual difference between UCD and Angus mapping quality, is created\n",
    "\n",
    "MQ_tidy_chr_mapping[order(-MQ_tidy_chr_mapping$Diff),] #The data frame is sorted by the difference of quality means\n",
    "print(\"Mean of mapping quality differences between assemblies:\")\n",
    "mean(MQ_tidy_chr_mapping$Diff)\n",
    "print(\"Standard deviation of mapping quality differences between assemblies:\")\n",
    "sd(MQ_tidy_chr_mapping$Diff)"
   ]
  },
  {
   "cell_type": "markdown",
   "metadata": {},
   "source": [
    " Summaries of mapping quality per chromosome and assembly:"
   ]
  },
  {
   "cell_type": "code",
   "execution_count": 6,
   "metadata": {},
   "outputs": [
    {
     "name": "stdout",
     "output_type": "stream",
     "text": [
      "[1] \"Summary of mapping quality for UCD assembly:\"\n"
     ]
    },
    {
     "data": {
      "text/plain": [
       "   Min. 1st Qu.  Median    Mean 3rd Qu.    Max. \n",
       " 0.8834  0.8920  0.8934  0.8928  0.8947  0.8993 "
      ]
     },
     "metadata": {},
     "output_type": "display_data"
    },
    {
     "name": "stdout",
     "output_type": "stream",
     "text": [
      "[1] \"Standard deviation of the mapping quality for UCD assembly:\"\n"
     ]
    },
    {
     "data": {
      "text/html": [
       "0.00341625465398392"
      ],
      "text/latex": [
       "0.00341625465398392"
      ],
      "text/markdown": [
       "0.00341625465398392"
      ],
      "text/plain": [
       "[1] 0.003416255"
      ]
     },
     "metadata": {},
     "output_type": "display_data"
    },
    {
     "name": "stdout",
     "output_type": "stream",
     "text": [
      "[1] \"Summary of mapping quality for Angus assembly:\"\n"
     ]
    },
    {
     "data": {
      "text/plain": [
       "   Min. 1st Qu.  Median    Mean 3rd Qu.    Max. \n",
       " 0.8717  0.8902  0.8932  0.8917  0.8951  0.8981 "
      ]
     },
     "metadata": {},
     "output_type": "display_data"
    },
    {
     "name": "stdout",
     "output_type": "stream",
     "text": [
      "[1] \"Standard deviation of the mapping quality for Angus assembly:\"\n"
     ]
    },
    {
     "data": {
      "text/html": [
       "0.00561687629692993"
      ],
      "text/latex": [
       "0.00561687629692993"
      ],
      "text/markdown": [
       "0.00561687629692993"
      ],
      "text/plain": [
       "[1] 0.005616876"
      ]
     },
     "metadata": {},
     "output_type": "display_data"
    }
   ],
   "source": [
    "print('Summary of mapping quality for UCD assembly:')\n",
    "summary(MQ_tidy_chr_mapping$UCD)\n",
    "print('Standard deviation of the mapping quality for UCD assembly:')\n",
    "sd(MQ_tidy_chr_mapping$UCD)\n",
    "print('Summary of mapping quality for Angus assembly:')\n",
    "summary(MQ_tidy_chr_mapping$Angus)\n",
    "print('Standard deviation of the mapping quality for Angus assembly:')\n",
    "sd(MQ_tidy_chr_mapping$Angus)"
   ]
  },
  {
   "cell_type": "markdown",
   "metadata": {},
   "source": [
    "* Finally, a global summary of total reads and `high-quality` reads aggregating all chromosomes, samples and assemblies:"
   ]
  },
  {
   "cell_type": "code",
   "execution_count": 7,
   "metadata": {},
   "outputs": [
    {
     "data": {
      "text/plain": [
       "     Min.   1st Qu.    Median      Mean   3rd Qu.      Max. \n",
       "1.599e+08 2.134e+08 2.564e+08 2.939e+08 3.095e+08 1.145e+09 "
      ]
     },
     "metadata": {},
     "output_type": "display_data"
    },
    {
     "data": {
      "text/plain": [
       "     Min.   1st Qu.    Median      Mean   3rd Qu.      Max. \n",
       "1.516e+08 1.809e+08 2.371e+08 2.623e+08 2.831e+08 1.069e+09 "
      ]
     },
     "metadata": {},
     "output_type": "display_data"
    }
   ],
   "source": [
    "summary(agg_MQ_SAM_reads$All_reads)\n",
    "summary(agg_MQ_SAM_reads$Filtered_reads)"
   ]
  }
 ],
 "metadata": {
  "kernelspec": {
   "display_name": "R 3.5.1",
   "language": "R",
   "name": "ir351"
  },
  "language_info": {
   "codemirror_mode": "r",
   "file_extension": ".r",
   "mimetype": "text/x-r-source",
   "name": "R",
   "pygments_lexer": "r",
   "version": "3.5.1"
  }
 },
 "nbformat": 4,
 "nbformat_minor": 2
}
