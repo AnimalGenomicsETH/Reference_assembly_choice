{
 "cells": [
  {
   "cell_type": "markdown",
   "metadata": {},
   "source": [
    "## Read Groups (RG)\n",
    "\n",
    "This is an exploratory notebook to find out what the Read Groups (RG) are, how many RG there are in our FASTQ files of interest and how separate FASTQ files can be generated for each RG: read-group-specific FASTQ files.\n",
    "\n",
    "Some of the links I found useful:\n",
    "* https://software.broadinstitute.org/gatk/documentation/article.php?id=6472\n",
    "* https://gatkforums.broadinstitute.org/gatk/discussion/3060/how-should-i-pre-process-data-from-multiplexed-sequencing-and-multi-library-designs\n",
    "* https://drive.google.com/drive/folders/0BwTg3aXzGxEDR2JKTUIxVGxCT1k"
   ]
  },
  {
   "cell_type": "code",
   "execution_count": 3,
   "metadata": {},
   "outputs": [
    {
     "name": "stdout",
     "output_type": "stream",
     "text": [
      "total 24G\n",
      "-rw-rw---- 1 avillas hest-hpc-tg  13G Jan 23 16:33 BSWDEUM000945581509_R2.fastq.gz\n",
      "-rw-rw---- 1 avillas hest-hpc-tg  12G Jan 23 16:33 BSWDEUM000945581509_R1.fastq.gz\n",
      "-rw-rw---- 1 avillas hest-hpc-tg 140K Jan 23 16:33 BSWDEUM000945581509_fastp.json\n",
      "-rw-rw---- 1 avillas hest-hpc-tg 487K Jan 23 16:33 BSWDEUM000945581509_fastp.html\n"
     ]
    }
   ],
   "source": [
    "cd /cluster/work/pausch/temp_scratch/audald/best_assembly/fastp/BSWDEUM000945581509 #This folder contains the FASTQ files after fastp\n",
    "ls -lrth"
   ]
  },
  {
   "cell_type": "markdown",
   "metadata": {},
   "source": [
    "Let us see how a couple of reads look like in a fastq files:"
   ]
  },
  {
   "cell_type": "code",
   "execution_count": 4,
   "metadata": {},
   "outputs": [
    {
     "name": "stdout",
     "output_type": "stream",
     "text": [
      "@A00460:55:H5KCGDSXX:1:1101:1344:1094 1:N:0:TTATAACC+GATATCGA\n",
      "CGCCCTGGGGGTGGGAAGAGGATGGGTGAGAGAGGGCGTTGGATCCACTGCAGCACCAGCCTCCCACCAACCCAGACAGCCCATTCAGGGCCTTGGCGCTTGCTGCTCCCCTCCCCAGCCACCCACCTGGCTCGCCCCTCAATCCAGCCAG\n",
      "+\n",
      "FFF:::,F::F,:F:F:,F,:FFFF,:,FF:::,:FF,F,FF,F:F:F,,FFFFFFFF,FFFFFFFFF,FFFFF:FFFFFFFFFFFF::FFF,,F,FFF,:,F,:F,:FFFFFF,FF,:F,FFFFFFF:FF,,FFF,FFFF,,FFF:FFF,\n",
      "@A00460:55:H5KCGDSXX:1:1101:1705:1094 1:N:0:TTATAACC+GATATCGA\n",
      "GAGAAGAAAGAGCCTCAGCTCAATTCGGTGACTTGCCCACCATCATGTAGGAGATGAACGGCCCCATAGGAGTCTTCTGTTCTGATGCAGAAATATATTATTGCTGCTTTTCCTGCCTTAATTTTTGTCTGTTTCTTTAAGGAGCACTTCC\n",
      "+\n",
      "FFFFFFFFFFFFFFFFFFFFFFFFFFFFFFFFFFFFFFFF:FFFFFF:FFFFFFFFFFFFFFFFFFFFFFFFFF:FFFFFFFFFFFFF,FFF:FFFF:FFFFFFFFFFFFFFFFFFFF,FFFFFFFFFFFFFFFFFFFF:F:FFFFFFFFF\n",
      "@A00460:55:H5KCGDSXX:1:1101:3803:1094 1:N:0:TTATAACC+GATATCGA\n",
      "GTGTCTTTTGTGGTGCTTCTTACATGAGAAATCTATGTCTAACCCAAAATTACTAAGATTTTATCCGAATTTTTGTTAGGAATTTTACACTTTTAGCTCATACATATGTATCTGGCATAAGGTAAAGAACTAGATATTTTCCCCTGCATAT\n",
      "+\n",
      ":,:F:FF:,F,:FF,FF,,F,F:F:,:,FFF,,F,F,FF:FF,F:F,,FFF:FF:F,F,FF,,F,,,F,,F:,F,,FF,,:F,,FFFFFF,,FFF,,F,F,F,:,F,F:FF,:,,FF:F::,FFFFFFFF,F,FFF,,F,F,FFF,,F:F,\n",
      "@A00460:55:H5KCGDSXX:1:1101:3947:1094 1:N:0:TTATAACC+GATATCGA\n",
      "TGGGTCAGGAATTCAGGAATGTTCAGCTGAGTGGATTTTTAGCTCAGGATCTCATGTCTGTGCAGTCAGTGTATCAGCTGGGGCTGTAGTCATCTGAAACCTCCATTAGGGATTCGAGATCTGTTTCTAAGTTATCTCACTCATTTGGTGC\n",
      "+\n",
      "FF:,FFFF:FFFFFFFFF,,:FFFF:FF,F,F:FFFFFFFF:,:,F:FFF,FFFFFF:FF:,FF:FFF,FFFF::::FFF,:F:F,FFFF,FFFF:FFFFFFFFFFFFF,FFFFFFFFFFFFF,FFFFFFFFFF,FFFFFFFFFF,FFF,F\n",
      "\n",
      "gzip: stdout: Broken pipe\n",
      "@A00460:55:H5KCGDSXX:1:1101:1344:1094 2:N:0:TTATAACC+GATATCGA\n",
      "CTGCTGGGGACCAGAGTCATCTGAGCAACCCACCGACATCAGCCTACATGGCTCTTAGAGCCCAGCTCAGGCAGACAGAAATAAAGGAACATGAGAGCTGGGAATAAAACCAAACAGAACAACGAGGTGGAGCTGTCAGGCCAGCACGACA\n",
      "+\n",
      "F:FFFFFF,FFFF:FF,FFF,FF,,:FFF:,FF,,:FFFF:FFFF,F,FF,F,FF::FFFF,FF,,FFFFF,F,FF:,:,F,F:F:FFFFFF::F,,:,FF:F,,FFFF,,:F:FFF::,FFF,FF,,,,:F,,,FFF,F,F,F,F,:FF:\n",
      "@A00460:55:H5KCGDSXX:1:1101:1705:1094 2:N:0:TTATAACC+GATATCGA\n",
      "TTACAAGAAATAGCCCCTGGATATCAACTCTTAAGTTAAAAAAAAAGAAATCGTTACTCACCTATGTCATTTTTCTTTGATATATCACTTTTCTCCAAATTCTGTATTTTAAATAAAAGAGAAAAAGATCAATCTTGTCACATTAACAAAA\n",
      "+\n",
      "FFFFFFFFFFFFFFFFFFFFFFFFFFFFFFF:FFFFFFFFFFFFFFFFFFFFFFFFFFFFFFFF:FFFFFFFFFFFFFFFFFFFFFFFF,FFFFF:FFFFFFFFFFFFFFFFFFFFFF:FFFFFFFFFFFFFFFFFFFFFF:,:FFFFFFF\n",
      "@A00460:55:H5KCGDSXX:1:1101:3803:1094 2:N:0:TTATAACC+GATATCGA\n",
      "AGTGGATTCTGAAATTTGTATGGAAATGTAGAGGACCTAAAATAGCCAAAAGAGTTTTGAAAGAAAAACAAAGTTGCAGGTTTTACATTGCCTTATATCAATACATAATAAAGCTATTGTAATCAAGATAGTATGGCACCGGCAAAAAAAA\n",
      "+\n",
      ":F:F,FF::::FFFFFFFFFFFFFFF:F:FFFF:FFFFFFFF:FFFFFFFF:FFFF,FFFFFFFFFFFFFFFF:::FFF,FFFFF:FFF,FFFFFFFFFFF,FFFFFFFFFF:FFFFFFFFFFFFFFFFFFFFF:F,FF,FFFFFFFFFFF\n",
      "@A00460:55:H5KCGDSXX:1:1101:3947:1094 2:N:0:TTATAACC+GATATCGA\n",
      "TAAGACCTCGCTCCTGAGGCGAGGTCATAAAAGGCATTGCAGGTTCCACTTTGTTTCCTCTCATCTCTTAGACCGCTCACTCACTCACTCTAGGAAAGGCCAACCACCATACTGCAAGAATTCAGCCAAGAGGTCTGCAGAAAGGCCCTCA\n",
      "+\n",
      "FFFFF,FFFFFFFFFFFFFFFFFFFFFFFFFFFFF,,FFFFFFFFF,FFFFF:FFFFFFFFF,FFFFFFF,FF,FFFFFFF:FFFFFFFFFFF:FFFF:FFFFFFFFFF,FFFF,::FFFF:FFFFFFFFFF:FFFFF,FFFFFFFFFFFF\n",
      "\n",
      "gzip: stdout: Broken pipe\n"
     ]
    }
   ],
   "source": [
    "cd /cluster/work/pausch/temp_scratch/audald/best_assembly/fastp/BSWDEUM000945581509\n",
    "zcat BSWDEUM000945581509_R1.fastq.gz | head -16\n",
    "zcat BSWDEUM000945581509_R2.fastq.gz | head -16"
   ]
  },
  {
   "cell_type": "markdown",
   "metadata": {},
   "source": [
    "FASTQ files have series of 4 lines. The first line is the sequence identifier; fields separated by \":\". Taking, for example \"@J00121:120:HJ5V5BBXX:3:2228:29589:19812/1\", these are the fields:\n",
    "* Instrument: J00121\n",
    "* Run number: 120\n",
    "* Flowcell ID: HJ5V5BBXX\n",
    "* Lane number: 3\n",
    "* Tile: 2228\n",
    "* X position: 29589\n",
    "* Y position: 19812\n",
    "* Read: 1\n",
    "\n",
    "This has been understood from the following link: https://support.illumina.com/help/SequencingAnalysisWorkflow/Content/Vault/Informatics/Sequencing_Analysis/CASAVA/swSEQ_mCA_FASTQFiles.htm\n",
    "\n",
    "A **read group can be considered the Flowcell ID + Lane number** (third and fourth field).\n",
    "\n",
    "I am taking the bash command [Hubert uses in his original pipeline](Original_pipeline/Hubert_Pausch_initial_code.ipynb) for extracting the different read groups from a fastq file.  The resulting are sorted and printed in order."
   ]
  },
  {
   "cell_type": "code",
   "execution_count": 1,
   "metadata": {
    "scrolled": true
   },
   "outputs": [
    {
     "name": "stdout",
     "output_type": "stream",
     "text": [
      "C2FH5ACXX:1\n",
      "C2FH5ACXX:2\n",
      "C2FH5ACXX:3\n",
      "C2FH5ACXX:4\n",
      "C2FH5ACXX:5\n",
      "C2FH5ACXX:6\n",
      "C2FH5ACXX:7\n",
      "C2FH5ACXX:8\n"
     ]
    }
   ],
   "source": [
    "cd /cluster/work/pausch/temp_scratch/audald/best_assembly/fastp/BSWDEUM000916561366\n",
    "zcat BSWDEUM000916561366_R1.fastq.gz | awk -F\":\" 'NR%2==1 {print $3,$4}' | awk 'NR%2==1 {print $1\":\"$2}' | sort -u\n",
    "#By taking \":\" as separator, flowcell ID and lane number are printed for the odd-numbered lines. \n",
    "#From here the odd-numbered lines have field 1 and 2 printed out. Only the specific fields every 4 lines will be printed."
   ]
  },
  {
   "cell_type": "markdown",
   "metadata": {},
   "source": [
    "Also, as exploration I would like to see how the read groups look like in a BAM file. Taking a BAM file from group work I use samtools to display the RG."
   ]
  },
  {
   "cell_type": "code",
   "execution_count": 2,
   "metadata": {
    "scrolled": true
   },
   "outputs": [
    {
     "name": "stdout",
     "output_type": "stream",
     "text": [
      "@RG\tID:HM5LGDSXX.3\tCN:TUM\tLB:BSWCHEM120038685214\tPL:illumina\tPU:HM5LGDSXX:3\tSM:BSWCHEM120038685214\n",
      "@RG\tID:HM5LGDSXX.2\tCN:TUM\tLB:BSWCHEM120038685214\tPL:illumina\tPU:HM5LGDSXX:2\tSM:BSWCHEM120038685214\n",
      "@PG\tID:bwa\tPN:bwa\tCL:bwa mem -M -t 12 -R @RG\\tID:HM5LGDSXX.2\\tCN:TUM\\tLB:BSWCHEM120038685214\\tPL:illumina\\tPU:HM5LGDSXX:2\\tSM:BSWCHEM120038685214 /cluster/work/pausch/temp_scratch/audald/best_assembly/ref/Angus_ref.fa /cluster/work/pausch/temp_scratch/audald/best_assembly/split_fastq/BSWCHEM120038685214/BSWCHEM120038685214_HM5LGDSXX_2_R1.fq.gz /cluster/work/pausch/temp_scratch/audald/best_assembly/split_fastq/BSWCHEM120038685214/BSWCHEM120038685214_HM5LGDSXX_2_R2.fq.gz\tVN:0.7.17-r1188\n",
      "@PG\tID:bwa.1\tPN:bwa\tCL:bwa mem -M -t 12 -R @RG\\tID:HM5LGDSXX.3\\tCN:TUM\\tLB:BSWCHEM120038685214\\tPL:illumina\\tPU:HM5LGDSXX:3\\tSM:BSWCHEM120038685214 /cluster/work/pausch/temp_scratch/audald/best_assembly/ref/Angus_ref.fa /cluster/work/pausch/temp_scratch/audald/best_assembly/split_fastq/BSWCHEM120038685214/BSWCHEM120038685214_HM5LGDSXX_3_R1.fq.gz /cluster/work/pausch/temp_scratch/audald/best_assembly/split_fastq/BSWCHEM120038685214/BSWCHEM120038685214_HM5LGDSXX_3_R2.fq.gz\tVN:0.7.17-r1188\n"
     ]
    }
   ],
   "source": [
    "cd /cluster/work/pausch/temp_scratch/audald/best_assembly/dedup_alignment/Angus/BSWCHEM120038685214\n",
    "module load samtools/1.6\n",
    "samtools view -H BSWCHEM120038685214.bam | grep '@RG'"
   ]
  },
  {
   "cell_type": "markdown",
   "metadata": {},
   "source": [
    "The fields are described here: https://samtools.github.io/hts-specs/SAMv1.pdf\n",
    "\n",
    "@RG opens the header of the read group. Where:\n",
    "* ID: Read group identifier. Each @RG line must have a unique ID. The value of ID is used in the RG tags of alignment records. Must be unique among all read groups in header section.\n",
    "* CN: Name of sequencing center producing the read\n",
    "* LB: Library\n",
    "* PL: Platform/technology used to produce the reads. Valid values: CAPILLARY, LS454, ILLUMINA, SOLID, HELICOS, IONTORRENT, ONT, and PACBIO.\n",
    "* PU: Platform unit. Unique identifier\n",
    "* SM: Sample\n",
    "\n",
    "@PG opeans the header for the used programs. As many @PG as @RG. Where:\n",
    "* ID: Program record identifier. Each @PG line must have a unique ID\n",
    "* PN: Program name\n",
    "* CL: Command line. UTF-8 encoding may be used\n",
    "* VN: Program version\n",
    "\n",
    "Once understood what read groups are and how can these be separated we need to separate each sample FASTQ files in different FASTQ files per sample (one per each read group). Given that between 1-8 read groups are detected per FASTQ file, it means that each file can be split into an unknown number between 1-8 files.\n",
    "\n",
    "### GDC-FASTQ-SPLITTER\n",
    "\n",
    "Discussing with Zih-Hua we decide to use [gdc-fastq-splitter](https://github.com/kmhernan/gdc-fastq-splitter) for this task. All the instructions on how to install it in the cluster - it has not been easy - are documented in the [\"How_I_did_stuff\"](https://github.com/Audald/ETH_Jupyter/blob/master/How_I_did_stuff.ipynb) notebook.\n",
    "\n",
    "These are the notes Zih-Hua is sharing with me:"
   ]
  },
  {
   "cell_type": "code",
   "execution_count": null,
   "metadata": {},
   "outputs": [],
   "source": [
    "input='path/to/input_folder/'\n",
    "output='path/to/output_folder/'\n",
    "split='/cluster/home/fangzi/gdc-fastq-splitter/venv/bin/gdc-fastq-splitter'\n",
    "\n",
    "bsub -n 1 -W 6:00 -R \"rusage[mem=3000,scratch=1000]\" -J \"fastq_split\" -env \"all\" \"unset PYTHONPATH;${split} -o ${output}${sample_id}_ ${input}${sample_id}_R1.fastq.gz ${input}${sample_id}_R2.fastq.gz\""
   ]
  },
  {
   "cell_type": "markdown",
   "metadata": {},
   "source": [
    "After doing some testing, this is the optimised command that is used in Snakemake ([Snakefile](Snakemake/Snakefile.py), [Configuration details](Snakemake/config.yaml) and [Cluster details](Snakemake/cluster.json)):"
   ]
  },
  {
   "cell_type": "code",
   "execution_count": null,
   "metadata": {},
   "outputs": [],
   "source": [
    "module load python_gpu/3.7.4\n",
    "bsub -n 6 -W 23:59 -R \"rusage[mem=6000,scratch=1000]\" -J \"fastq_split\" -env \"all\" \"/cluster/work/pausch/audald/software/gdc-fastq-splitter/venv/bin/gdc-fastq-splitter -o /cluster/work/pausch/temp_scratch/audald/best_assembly/split_fastq/BSWDEUM000916561366_ /cluster/work/pausch/temp_scratch/audald/best_assembly/fastp/BSWDEUM000916561366/BSWDEUM000916561366_R1.fastq.gz /cluster/work/pausch/temp_scratch/audald/best_assembly/fastp/BSWDEUM000916561366/BSWDEUM000916561366_R2.fastq.gz\"\n",
    "#BSWDEUM000916561366 fastq files are tested and results are copied into split_fastq folder.\n",
    "#Setting the output is important for the final name the fastq files will have. In this case, I am setting the names as BSWDEUM000916561366_readgroup_R{1,2}.fq.gz (e.g. BSWDEUM000916561366_C2FH5ACXX_7_R1.fq.gz)"
   ]
  },
  {
   "cell_type": "markdown",
   "metadata": {},
   "source": [
    "We will now focuss on a specific example to demonstrate that this steps works properly. This is: the resulting files are as many as read groups in the original files. Also, the names of the resulting files and the read group containing should match:"
   ]
  },
  {
   "cell_type": "code",
   "execution_count": 3,
   "metadata": {},
   "outputs": [
    {
     "name": "stdout",
     "output_type": "stream",
     "text": [
      "total 16G\n",
      "-rw-rw---- 1 avillas hest-hpc-tg  287 Nov  7 12:13 BSWAUTM000336344707_H5KCGDSXX_4_R1.report.json\n",
      "-rw-rw---- 1 avillas hest-hpc-tg 2.7G Nov  7 12:13 BSWAUTM000336344707_H5KCGDSXX_4_R1.fq.gz\n",
      "-rw-rw---- 1 avillas hest-hpc-tg  287 Nov  7 12:13 BSWAUTM000336344707_H5KCGDSXX_3_R1.report.json\n",
      "-rw-rw---- 1 avillas hest-hpc-tg 2.6G Nov  7 12:13 BSWAUTM000336344707_H5KCGDSXX_3_R1.fq.gz\n",
      "-rw-rw---- 1 avillas hest-hpc-tg  287 Nov  7 12:13 BSWAUTM000336344707_H5KCGDSXX_1_R1.report.json\n",
      "-rw-rw---- 1 avillas hest-hpc-tg 2.5G Nov  7 12:13 BSWAUTM000336344707_H5KCGDSXX_1_R1.fq.gz\n",
      "-rw-rw---- 1 avillas hest-hpc-tg  287 Nov  7 12:16 BSWAUTM000336344707_H5KCGDSXX_4_R2.report.json\n",
      "-rw-rw---- 1 avillas hest-hpc-tg 2.8G Nov  7 12:16 BSWAUTM000336344707_H5KCGDSXX_4_R2.fq.gz\n",
      "-rw-rw---- 1 avillas hest-hpc-tg  287 Nov  7 12:16 BSWAUTM000336344707_H5KCGDSXX_3_R2.report.json\n",
      "-rw-rw---- 1 avillas hest-hpc-tg 2.8G Nov  7 12:16 BSWAUTM000336344707_H5KCGDSXX_3_R2.fq.gz\n",
      "-rw-rw---- 1 avillas hest-hpc-tg  287 Nov  7 12:16 BSWAUTM000336344707_H5KCGDSXX_1_R2.report.json\n",
      "-rw-rw---- 1 avillas hest-hpc-tg 2.6G Nov  7 12:16 BSWAUTM000336344707_H5KCGDSXX_1_R2.fq.gz\n",
      "Number of read groups in original BSWDEUM000916561366 FASTQ file:\n",
      "H5KCGDSXX:1\n",
      "H5KCGDSXX:3\n",
      "H5KCGDSXX:4\n",
      "Number of read groups in file BSWAUTM000336344707_H5KCGDSXX_1_R1.fq.gz:\n",
      "H5KCGDSXX:1\n",
      "Number of read groups in file BSWAUTM000336344707_H5KCGDSXX_3_R1.fq.gz:\n",
      "H5KCGDSXX:3\n",
      "Number of read groups in file BSWAUTM000336344707_H5KCGDSXX_4_R1.fq.gz:\n",
      "H5KCGDSXX:4\n"
     ]
    }
   ],
   "source": [
    "cd /cluster/work/pausch/temp_scratch/audald/split_fastq/BSWAUTM000336344707\n",
    "ls -lrth\n",
    "echo 'Number of read groups in original BSWDEUM000916561366 FASTQ file:'\n",
    "zcat /cluster/work/pausch/temp_scratch/audald/fastp/BSWAUTM000336344707/BSWAUTM000336344707_R1.fastq.gz | awk -F\":\" 'NR%2==1 {print $3,$4}' | awk 'NR%2==1 {print $1\":\"$2}' | sort -u\n",
    "echo 'Number of read groups in file BSWAUTM000336344707_H5KCGDSXX_1_R1.fq.gz:'\n",
    "zcat /cluster/work/pausch/temp_scratch/audald/split_fastq/BSWAUTM000336344707/BSWAUTM000336344707_H5KCGDSXX_1_R1.fq.gz | awk -F\":\" 'NR%2==1 {print $3,$4}' | awk 'NR%2==1 {print $1\":\"$2}' | sort -u\n",
    "echo 'Number of read groups in file BSWAUTM000336344707_H5KCGDSXX_3_R1.fq.gz:'\n",
    "zcat /cluster/work/pausch/temp_scratch/audald/split_fastq/BSWAUTM000336344707/BSWAUTM000336344707_H5KCGDSXX_3_R1.fq.gz | awk -F\":\" 'NR%2==1 {print $3,$4}' | awk 'NR%2==1 {print $1\":\"$2}' | sort -u\n",
    "echo 'Number of read groups in file BSWAUTM000336344707_H5KCGDSXX_4_R1.fq.gz:'\n",
    "zcat /cluster/work/pausch/temp_scratch/audald/split_fastq/BSWAUTM000336344707/BSWAUTM000336344707_H5KCGDSXX_4_R1.fq.gz | awk -F\":\" 'NR%2==1 {print $3,$4}' | awk 'NR%2==1 {print $1\":\"$2}' | sort -u"
   ]
  },
  {
   "cell_type": "markdown",
   "metadata": {},
   "source": [
    "Although the number of read groups in the original file is the same as the number of files created and although the read groups at the beginning of read-group-specific fastq files match with the expected name, I would like to check that the number of reads in the original fastq file is exactly the same as the sum of reads in the generated fastq files.\n",
    "\n",
    "Let us focus again on **BSWAUTM000336344707** to see whether everything is correct (JQ software is being used here - see [\"How_I_did_stuff\"](https://github.com/Audald/ETH_Jupyter/blob/master/How_I_did_stuff.ipynb) to see the installation and working details):"
   ]
  },
  {
   "cell_type": "code",
   "execution_count": 14,
   "metadata": {},
   "outputs": [
    {
     "name": "stdout",
     "output_type": "stream",
     "text": [
      "Number of reads in the original file (including R1 and R2):\n",
      "\u001b[0;39m236389974\u001b[0m\n",
      "Number of reads in the first read group:\n",
      "37108710\n",
      "Number of reads in the second read group:\n",
      "40487310\n",
      "Number of reads in the third read group:\n",
      "40487310\n",
      "Number of reads when summing all read groups (and taking into account R1 and R2)\n",
      "236389974\n"
     ]
    }
   ],
   "source": [
    "module load jq/1.5\n",
    "cd /cluster/work/pausch/temp_scratch/audald/split_fastq/BSWAUTM000336344707\n",
    "echo 'Number of reads in the original file (including R1 and R2):'\n",
    "cat /cluster/work/pausch/temp_scratch/audald/fastp/BSWAUTM000336344707/BSWAUTM000336344707_fastp.json | jq '.filtering_result.passed_filter_reads'\n",
    "echo 'Number of reads in the first read group:'\n",
    "cat BSWAUTM000336344707_H5KCGDSXX_1_R1.report.json | jq '.metadata.record_count' > BSWAUTM000336344707_H5KCGDSXX_1_reads.txt\n",
    "cat BSWAUTM000336344707_H5KCGDSXX_1_reads.txt\n",
    "echo 'Number of reads in the second read group:'\n",
    "cat BSWAUTM000336344707_H5KCGDSXX_3_R1.report.json | jq '.metadata.record_count' > BSWAUTM000336344707_H5KCGDSXX_3_reads.txt\n",
    "cat BSWAUTM000336344707_H5KCGDSXX_3_reads.txt\n",
    "echo 'Number of reads in the third read group:'\n",
    "cat BSWAUTM000336344707_H5KCGDSXX_4_R1.report.json | jq '.metadata.record_count' > BSWAUTM000336344707_H5KCGDSXX_4_reads.txt\n",
    "cat BSWAUTM000336344707_H5KCGDSXX_4_reads.txt\n",
    "echo 'Number of reads when summing all read groups (and taking into account R1 and R2)'\n",
    "paste BSWAUTM000336344707_H5KCGDSXX_1_reads.txt BSWAUTM000336344707_H5KCGDSXX_3_reads.txt BSWAUTM000336344707_H5KCGDSXX_4_reads.txt | awk '{print ($1 + $2 +$3)*2}'\n",
    "rm *txt"
   ]
  }
 ],
 "metadata": {
  "kernelspec": {
   "display_name": "Bash",
   "language": "bash",
   "name": "bash"
  },
  "language_info": {
   "codemirror_mode": "shell",
   "file_extension": ".sh",
   "mimetype": "text/x-sh",
   "name": "bash"
  }
 },
 "nbformat": 4,
 "nbformat_minor": 2
}
